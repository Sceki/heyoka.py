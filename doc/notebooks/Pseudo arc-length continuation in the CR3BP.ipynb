{
 "cells": [
  {
   "cell_type": "markdown",
   "id": "cf5bb43b",
   "metadata": {},
   "source": [
    "Pseudo arc-length continuation in the CR3BP\n",
    "=====================================\n",
    "\n",
    "In this example we will refine the basic continuation scheme used in [Continuation of Periodic Orbits in the CR3BP](<./Periodic orbits in the CR3BP.ipynb>) and use, as continuation parameter, a pseudo arc-length.\n",
    "\n",
    "The resulting numerical scheme allows to follow through folds of the curve implicitly defined by the periodicity condition and the Poincare' phasing condition."
   ]
  },
  {
   "cell_type": "markdown",
   "id": "61d7a4e5",
   "metadata": {},
   "source": [
    "## Preamble\n",
    "As usual, we make some standard imports:"
   ]
  },
  {
   "cell_type": "code",
   "execution_count": 15,
   "id": "8b2a7edb",
   "metadata": {},
   "outputs": [],
   "source": [
    "import heyoka as hy\n",
    "import numpy as np\n",
    "import time \n",
    "\n",
    "from scipy.optimize import root_scalar\n",
    "\n",
    "from matplotlib.pylab import plt"
   ]
  },
  {
   "cell_type": "markdown",
   "id": "b2e5665b",
   "metadata": {},
   "source": [
    "... and define some functions that will help later on to visualize our trajectories and make nice plots. (ignore them and come back to this later in case you are curious)"
   ]
  },
  {
   "cell_type": "code",
   "execution_count": 16,
   "id": "a6309475",
   "metadata": {},
   "outputs": [],
   "source": [
    "def compute_L_points(mu, f):\n",
    "    \"\"\"Computes The exact position of the Lagrangian points. To do so it finds the zeros of the\n",
    "    the dynamics equation for px.\n",
    "    \n",
    "        Args:\n",
    "            mu (float): The value of the mu parameter.\n",
    "            f (heyoka expression): The px dynamics equation.\n",
    "\n",
    "        Returns:\n",
    "            xL1, xL2, xL3, xL45, yL45: The coordinates of the various Lagrangian Points\n",
    "    \"\"\"\n",
    "    # Position of the lagrangian points approximated\n",
    "    xL1 = (mu-1) + (mu/3/(1-mu))**(1/3)\n",
    "    xL2 = (mu-1) - (mu/3/(1-mu))**(1/3)\n",
    "    xL3 = -(mu-1) - 7/12 * mu / (1-mu)\n",
    "    yL45 = np.sin(60/180*np.pi)\n",
    "    xL45 = -0.5 + mu\n",
    "\n",
    "    # Solve for the static equilibrium from the approximated solution\n",
    "    def equilibrium(expr, x,y):\n",
    "        retval = hy.eval(expr, {\"x\":x, \"y\":y, \"z\":0, \"px\":-y, \"py\":x, \"pz\":0}, [mu])\n",
    "        return retval\n",
    "    xL1 = root_scalar(lambda x: equilibrium(f, x,0.), x0=xL1,x1=xL1-1e-2).root\n",
    "    xL2 = root_scalar(lambda x: equilibrium(f, x,0.), x0=xL2,x1=xL2-1e-2).root\n",
    "    xL3 = root_scalar(lambda x: equilibrium(f, x,0.), x0=xL3,x1=xL3-1e-2).root;\n",
    "    return xL1, xL2, xL3, xL45, yL45\n",
    "\n",
    "def potential_function(position,mu):\n",
    "    \"\"\"Computes the system potential\n",
    "        Args:\n",
    "            position (array-like): The position in Cartesian coordinates\n",
    "            mu (float): The value of the mu parameter.\n",
    "\n",
    "        Returns:\n",
    "            The potential\n",
    "    \"\"\"\n",
    "    x,y,z=position\n",
    "    r_1=np.sqrt((x-mu)**2+y**2+z**2)\n",
    "    r_2=np.sqrt((x-mu+1)**2+y**2+z**2)\n",
    "    Omega=1./2.*(x**2+y**2)+(1-mu)/r_1+mu/r_2\n",
    "    return Omega\n",
    "\n",
    "def jacobi_constant(state,mu):\n",
    "    \"\"\"Computes the system Jacobi constant\n",
    "        Args:\n",
    "            state (array-like): The system state (x,y,z,px,py,pz)\n",
    "            mu (float): The value of the mu parameter.\n",
    "\n",
    "        Returns:\n",
    "            The Jacobi constant for the state\n",
    "    \"\"\"\n",
    "    x,y,z,px,py,pz=state\n",
    "    vx = px + y\n",
    "    vy = py - x\n",
    "    vz = pz\n",
    "    r_1=np.sqrt((x-mu)**2+y**2+z**2)\n",
    "    r_2=np.sqrt((x-mu+1)**2+y**2+z**2)\n",
    "    Omega=1/2*(x**2+y**2)+(1-mu)/r_1+mu/r_2\n",
    "    T=1/2*(vx**2+vy**2+vz**2)\n",
    "    C=Omega-T\n",
    "    return C"
   ]
  },
  {
   "cell_type": "markdown",
   "id": "850ff8a6",
   "metadata": {},
   "source": [
    "We also define the CR3BP equations ... (see [circular restricted three-body problem](<./The restricted three-body problem.ipynb>)) "
   ]
  },
  {
   "cell_type": "code",
   "execution_count": 17,
   "id": "confused-excellence",
   "metadata": {},
   "outputs": [],
   "source": [
    "# Create the symbolic variables.\n",
    "symbols_state = [\"x\", \"y\", \"z\", \"px\", \"py\", \"pz\"]\n",
    "x = np.array(hy.make_vars(*symbols_state))\n",
    "# This will contain the r.h.s. of the equations\n",
    "f = []\n",
    "\n",
    "rps_32 = ((x[0] - hy.par[0])**2 + x[1]**2 + x[2]**2)**(-3/2.)\n",
    "rpj_32 = ((x[0] - hy.par[0]  + 1.)**2 + x[1]**2 + x[2]**2)**(-3/2.)\n",
    "\n",
    "# The equations of motion.\n",
    "f.append(x[3] + x[1])\n",
    "f.append(x[4] - x[0])\n",
    "f.append(x[5])\n",
    "f.append(x[4] - (1. - hy.par[0]) * rps_32 * (x[0] - hy.par[0]) - hy.par[0] * rpj_32 * (x[0] - hy.par[0] + 1.))\n",
    "f.append(-x[3] -((1. - hy.par[0]) * rps_32 + hy.par[0] * rpj_32) * x[1])\n",
    "f.append(-((1. - hy.par[0]) * rps_32 + hy.par[0] * rpj_32) * x[2])\n",
    "f = np.array(f)"
   ]
  },
  {
   "cell_type": "markdown",
   "id": "d92596db",
   "metadata": {},
   "source": [
    "and the corresponding variational equations (see and [Continuation of Periodic Orbits in the CR3BP](<./Periodic orbits in the CR3BP.ipynb>))), essentially computing the state transition matrix $\\mathbf \\Phi$."
   ]
  },
  {
   "cell_type": "code",
   "execution_count": 18,
   "id": "76d34b7d",
   "metadata": {},
   "outputs": [],
   "source": [
    "symbols_phi = []\n",
    "for i in range(6):\n",
    "    for j in range(6):\n",
    "        # Here we define the symbol for the variations\n",
    "        symbols_phi.append(\"phi_\"+str(i)+str(j))  \n",
    "phi = np.array(hy.make_vars(*symbols_phi)).reshape((6,6))"
   ]
  },
  {
   "cell_type": "code",
   "execution_count": 19,
   "id": "b1bd6632",
   "metadata": {},
   "outputs": [],
   "source": [
    "dfdx = []\n",
    "for i in range(6):\n",
    "    for j in range(6):\n",
    "        dfdx.append(hy.diff(f[i],x[j]))\n",
    "dfdx = np.array(dfdx).reshape((6,6))"
   ]
  },
  {
   "cell_type": "code",
   "execution_count": 20,
   "id": "4f3f2e07",
   "metadata": {},
   "outputs": [],
   "source": [
    "# The (variational) equations of motion\n",
    "dphidt = dfdx@phi"
   ]
  },
  {
   "cell_type": "markdown",
   "id": "ad47ad1a",
   "metadata": {},
   "source": [
    "Finally, we create the dynamics including all 6 + 6x6 = 42 equations:"
   ]
  },
  {
   "cell_type": "code",
   "execution_count": 21,
   "id": "65949284",
   "metadata": {},
   "outputs": [],
   "source": [
    "dyn = []\n",
    "for state, rhs in zip(x,f):\n",
    "    dyn.append((state, rhs))\n",
    "for state, rhs in zip(phi.reshape((36,)),dphidt.reshape((36,))):\n",
    "    dyn.append((state, rhs))\n",
    "# These are the initial conditions on the variational equations (the identity matrix)\n",
    "ic_var = np.eye(6).reshape((36,)).tolist()"
   ]
  },
  {
   "cell_type": "markdown",
   "id": "47618ce7",
   "metadata": {},
   "source": [
    "and instantiate the Taylor integrator (high accuracy and no compact mode)"
   ]
  },
  {
   "cell_type": "code",
   "execution_count": 22,
   "id": "37433a60",
   "metadata": {},
   "outputs": [
    {
     "name": "stdout",
     "output_type": "stream",
     "text": [
      "--- 12.55229663848877 seconds --- to build the Taylor integrator\n"
     ]
    }
   ],
   "source": [
    "start_time = time.time()\n",
    "ta = hy.taylor_adaptive(\n",
    "    # The ODEs.\n",
    "    dyn,\n",
    "    # The initial conditions.\n",
    "    [-0.45, 0.80, 0.00, -0.80, -0.45, 0.58] + ic_var,\n",
    "    # Operate below machine precision\n",
    "    # and in high-accuracy mode.\n",
    "    tol = 1e-18, high_accuracy = True\n",
    ")\n",
    "print(\"--- %s seconds --- to build the Taylor integrator\" % (time.time() - start_time))"
   ]
  },
  {
   "cell_type": "markdown",
   "id": "ec72f250",
   "metadata": {},
   "source": [
    "## The Pseudo arc-length continuation method\n",
    "In the most general form, and in a nutshell, numerical continuation considers a starting equation in the form:\n",
    "$$\n",
    "\\underline{{\\mathbf G}}\\left(\\underline{ \\mathbf x}, \\lambda\\right) = \\underline{\\mathbf 0}\n",
    "$$\n",
    "assumes a solution $\\underline{ \\mathbf x}_0, \\lambda_0$ is available and seeks a new solution $\\underline{ \\mathbf x}_0+\\delta\\underline{\\mathbf{x}}$ corrisponding to $\\lambda_0+\\delta \\lambda$. In cases where the solution curve implicitly defined by $\\underline{{\\mathbf G}}$ folds with respect to the continuation parameter $\\lambda$, this becomes clearly problematic. A common solution is to consider a new continuation parameter intrinsically linked to the solution curve geometry: the curve arc-length $s$. Assuming a reference $s=s_0$ (can be zero) in $\\underline{ \\mathbf x}_0, \\lambda_0$, the arc-length becomes a function of $\\underline{\\mathbf{x}}$ and $\\lambda$. We can then write $s = \\tilde s\\left(\\underline{ \\mathbf x}, \\lambda\\right)$.\n",
    "\n",
    "Under this idea one can formally write:\n",
    "$$\n",
    "\\left\\{\n",
    "\\begin{array}{l}\n",
    "\\underline{{\\mathbf G}}\\left(\\underline{ \\mathbf x}, \\lambda\\right) = \\underline{\\mathbf 0} \\\\\n",
    "\\tilde s\\left(\\underline{ \\mathbf x}, \\lambda\\right) - s = 0\n",
    "\\end{array}\n",
    "\\right.\n",
    "$$\n",
    "or, equivalently:\n",
    "$$\n",
    "\\underline{{\\mathbf G}}^*\\left(\\underline{ \\mathbf y}, s\\right) = \\underline{\\mathbf 0}\n",
    "$$\n",
    "where $\\underline{ \\mathbf y} = [\\underline{ \\mathbf y}, s ]$ and $\\underline{\\mathbf G}^*=[\\underline{\\mathbf G}, \\tilde s - s]$. Starting from the solution $\\underline{ \\mathbf x}_0, \\lambda_0, s_0$ we have reformulated the problem and may now seek a new solution $[\\underline{ \\mathbf x}_0+\\delta\\underline{\\mathbf{x}}, \\lambda_0+\\delta \\lambda]$ corresponding to $s_0+\\delta s$. We obtain (at least formally) a continuation scheme able to follow easily through folds of the $\\underline{ \\mathbf x}, \\lambda$ curve, since the $\\underline{ \\mathbf y}, s$ curve has none! (the arc-length is always uniformly increasing along the solution curve).\n",
    "\n",
    "The problem now is that we cannot really compute $\\tilde s$ easily! But we can approximate $\\delta s$ as the projection of $[\\delta \\underline{ \\mathbf x}, \\delta \\lambda]$ onto the tangent vector $\\mathbf \\tau = \\left[\\frac{d\\underline{ \\mathbf x}}{ds}, \\frac{d\\lambda}{ds}\\right]$ (hence the name **pseudo** arc-length is used). Eventually, the system:\n",
    "$$\n",
    "\\left\\{\n",
    "\\begin{array}{l}\n",
    "\\underline{{\\mathbf G}}\\left(\\underline{ \\mathbf x}, \\lambda\\right) = \\underline{\\mathbf 0} \\\\\n",
    "\\mathbf \\tau \\cdot [\\delta \\underline{ \\mathbf x}, \\delta \\lambda] +  s_0 - s = 0\n",
    "\\end{array}\n",
    "\\right.\n",
    "$$\n",
    "is considered and its solutions continued, now using $s$ as continuation parameter.\n",
    "\n",
    "### The case of continuing periodic orbits.\n",
    "In the case of a search for periodic solutions to the system $\\dot{\\underline{\\mathbf x}} =\\underline{ \\mathbf f}(\\underline{\\mathbf x})$ we indicate the generic solution as $\\underline{ \\mathbf x}\\left(t; \\underline{ \\mathbf x}_0\\right)$ and may thus write the periodicity condition as:\n",
    "$$\n",
    "(1) \\qquad \\underline{ \\mathbf x}\\left(T; \\underline{ \\mathbf x}_0\\right) - \\underline{ \\mathbf x}_0 = \\mathbf 0\n",
    "$$\n",
    "We thus search for $\\underline{ \\mathbf x}_0, T$ roots of the equation above. Assuming we have one such solution, we will slightly abuse the notation and omit a further $0$ as a subscript in $\\underline{\\mathbf x}_0$ indicating such an initial solution simply as as $\\underline{\\mathbf x}_0, T_0$. To continue this initial solution we seek $\\delta\\underline{\\mathbf x}$ and $\\delta T$ so that:\n",
    "$$\n",
    "\\underline{ \\mathbf x}\\left(T_0 + \\delta T; \\underline{ \\mathbf x}_0 + \\delta\\underline{\\mathbf x}\\right) - \\underline{ \\mathbf x}_0 - \\delta\\underline{\\mathbf x}= \\mathbf 0\n",
    "$$\n",
    "In other words we are perturbing our initial condition and period and demand to end up in a new periodic orbit. It is straight forward to see that for any fixed $\\delta T$ there is more than one $\\underline{ \\mathbf x}_0$ that would do the trick. Infact any point on the whole new periodic orbit would work! Thus, as we saw also in [Continuation of Periodic Orbits in the CR3BP](<./Periodic orbits in the CR3BP.ipynb>), we need to add the Poincare' phasing condition and search, instead for a solution to the system:\n",
    "$$\n",
    "\\left\\{\n",
    "\\begin{array}{l}\n",
    "\\underline{ \\mathbf x}\\left(T_0 + \\delta T; \\underline{ \\mathbf x}_0 + \\delta\\underline{\\mathbf x}\\right) - \\underline{ \\mathbf x}_0 - \\delta\\underline{\\mathbf x}= \\mathbf 0 \\\\ \n",
    "\\delta \\underline{\\mathbf x} \\cdot \\underline{\\mathbf f} (\\underline{ \\mathbf x}_0) = 0\n",
    "\\end{array}\n",
    "\\right.\n",
    "$$\n",
    "this (both equations) is our $\\underline{{\\mathbf G}} = \\underline{\\mathbf 0}$ with $\\delta T$ being our continuation parameter. We now apply the pseudo arc-length condition to avoid issues when the solution curve folds for increasing periods. We get:\n",
    "$$\n",
    "(2) \\qquad\n",
    "\\left\\{\n",
    "\\begin{array}{l}\n",
    "\\underline{ \\mathbf x}\\left(T_0 + \\delta T; \\underline{ \\mathbf x}_0 + \\delta\\underline{\\mathbf x}\\right) - \\underline{ \\mathbf x}_0 - \\delta\\underline{\\mathbf x}= \\mathbf 0 \\\\ \n",
    "\\delta \\underline{\\mathbf x} \\cdot \\underline{\\mathbf f} (\\underline{ \\mathbf x}_0) = 0 \\\\\n",
    "\\mathbf \\tau \\cdot [\\delta \\underline{ \\mathbf x}, \\delta T] = \\delta s\n",
    "\\end{array}\n",
    "\\right.\n",
    "$$\n",
    "\n",
    "where $\\mathbf \\tau$ is found differentiating  with respect to $s$ our $\\underline{{\\mathbf G}}$ considering both $\\delta\\underline{\\mathbf x}(s)$ and $\\delta T(s)$ as a function of $s$ and then applying a normalization.\n",
    "\n",
    "### First order iterations\n",
    "If we expand in Taylor series the relation (2) we get:\n",
    "$$\n",
    "\\left\\{\n",
    "\\begin{array}{l}\n",
    "(\\underline{\\underline{\\mathbf \\Phi}}-\\underline{\\underline{\\mathbf I}})\\delta\\underline{\\mathbf x} + \\underline{\\mathbf f} \\delta T = \\underline{\\mathbf 0}\\\\ \n",
    "\\delta \\underline{\\mathbf x} \\cdot \\underline{\\mathbf f} (\\underline{ \\mathbf x}_0) = 0 \\\\\n",
    "\\mathbf \\tau \\cdot [\\delta \\underline{ \\mathbf x}, \\delta T] = \\delta s\n",
    "\\end{array}\n",
    "\\right.\n",
    "$$\n",
    "which for the basis for the first order iterations we will now (finally) code, note that it is convenient to assemble the following matrix:\n",
    "$$\n",
    "\\underline{\\underline{\\mathbf A}} = \n",
    "\\left[\n",
    "\\begin{array}{cc}\n",
    "\\underline{\\underline{\\mathbf \\Phi}}-\\underline{\\underline{\\mathbf I}} & \\underline {\\mathbf f} \\\\\n",
    "\\underline {\\mathbf f}^T & 0 \\\\\n",
    "\\end{array}\n",
    "\\right]\n",
    "$$"
   ]
  },
  {
   "cell_type": "code",
   "execution_count": 23,
   "id": "3acbb840",
   "metadata": {},
   "outputs": [],
   "source": [
    "# These conditions were obtained in a previous example notebook and correspond to a Lyapunov orbit close\n",
    "# to the L2 point\n",
    "ic = [-8.3660628427188066e-01, 6.8716725011222035e-05, 0.0000000000000000e+00, -2.3615604665605682e-05, -8.3919863043620713e-01, 0.0000000000000000e+00]\n",
    "t_final=2.6915996001673941e+00\n",
    "mu=0.01215057\n",
    "ta.pars[0] = mu\n",
    "# Reset the state\n",
    "ta.time = 0\n",
    "ta.state[:] = ic + ic_var\n",
    "# Time grid\n",
    "t_grid = np.linspace(0, t_final, 2000)"
   ]
  },
  {
   "cell_type": "code",
   "execution_count": 24,
   "id": "c02c7bac",
   "metadata": {},
   "outputs": [
    {
     "name": "stdout",
     "output_type": "stream",
     "text": [
      "--- 0.0029337406158447266 seconds --- to propagate\n"
     ]
    }
   ],
   "source": [
    "# Go ...\n",
    "start_time = time.time()\n",
    "out = ta.propagate_grid(t_grid)\n",
    "print(\"--- %s seconds --- to propagate\" % (time.time() - start_time))"
   ]
  },
  {
   "cell_type": "code",
   "execution_count": 37,
   "id": "0aac0f93",
   "metadata": {},
   "outputs": [],
   "source": [
    "# Single iteration from ic, t_final\n",
    "# 1 - We compute the state transition matrix Phi (integrating the full EOM for t_final)\n",
    "ta.time = 0.\n",
    "ta.state[:] = ic + ic_var\n",
    "out = ta.propagate_until(t_final)\n",
    "Phi = ta.state[6:].reshape((6,6))\n",
    "# 2 - We compute the dynamics f (at zero, but for periodic orbits this is the same at T)\n",
    "state_dict = {\"x\":ic[0], \"y\":ic[1], \"z\":ic[2], \"px\":ic[3], \"py\":ic[4], \"pz\":ic[5]}\n",
    "f_dyn = np.array([hy.eval(f[i], state_dict, [mu]) for i in range(6)]).reshape((-1,1))\n",
    "# 3 - Assemble the matrix A\n",
    "A = np.concatenate((Phi-np.eye(6), f_dyn.T))\n",
    "A = np.concatenate((A,np.insert(f_dyn,-1,0).reshape((-1,1))), axis=1)\n",
    "# 4 - Compute the tangent vector tau\n",
    "tauT = 1\n",
    "taux = - np.linalg.inv(A[:,:6].T@A[:,:6])@(A[:,:6].T@A[:,-1]) * tauT\n"
   ]
  },
  {
   "cell_type": "code",
   "execution_count": 38,
   "id": "2146432b",
   "metadata": {},
   "outputs": [
    {
     "data": {
      "text/plain": [
       "array([  7.319956  ,   6.27080138,   0.        ,  -2.14617929,\n",
       "       -54.25934047,   0.        ])"
      ]
     },
     "execution_count": 38,
     "metadata": {},
     "output_type": "execute_result"
    }
   ],
   "source": [
    "taux"
   ]
  },
  {
   "cell_type": "code",
   "execution_count": 19,
   "id": "1768198c",
   "metadata": {},
   "outputs": [
    {
     "data": {
      "text/plain": [
       "array([-8.36606284e-01,  6.87167247e-05,  0.00000000e+00, -2.36156031e-05,\n",
       "       -8.39198630e-01,  0.00000000e+00])"
      ]
     },
     "execution_count": 19,
     "metadata": {},
     "output_type": "execute_result"
    }
   ],
   "source": [
    "ta.state[:6]"
   ]
  },
  {
   "cell_type": "code",
   "execution_count": null,
   "id": "6abf694e",
   "metadata": {},
   "outputs": [],
   "source": []
  }
 ],
 "metadata": {
  "kernelspec": {
   "display_name": "Python 3 (ipykernel)",
   "language": "python",
   "name": "python3"
  },
  "language_info": {
   "codemirror_mode": {
    "name": "ipython",
    "version": 3
   },
   "file_extension": ".py",
   "mimetype": "text/x-python",
   "name": "python",
   "nbconvert_exporter": "python",
   "pygments_lexer": "ipython3",
   "version": "3.10.4"
  }
 },
 "nbformat": 4,
 "nbformat_minor": 5
}
