{
 "cells": [
  {
   "cell_type": "markdown",
   "id": "cf5bb43b",
   "metadata": {},
   "source": [
    "Pseudo arc-length continuation in the CR3BP\n",
    "=====================================\n",
    "\n",
    "In this example we will refine the basic continuation scheme used in [Continuation of Periodic Orbits in the CR3BP](<./Periodic orbits in the CR3BP.ipynb>) and use instead, as continuation parameter, the pseudo arc-length.\n",
    "\n",
    "The resulting numerical scheme allows to follow through folds of the curve implicitly defined by the periodicity condition and the Poincare' phasing condition."
   ]
  },
  {
   "cell_type": "markdown",
   "id": "61d7a4e5",
   "metadata": {},
   "source": [
    "## Preamble\n",
    "As usual, we make some standard imports:"
   ]
  },
  {
   "cell_type": "code",
   "execution_count": 1,
   "id": "8b2a7edb",
   "metadata": {},
   "outputs": [],
   "source": [
    "import heyoka as hy\n",
    "import numpy as np\n",
    "import time \n",
    "\n",
    "from scipy.optimize import least_squares\n",
    "from copy import deepcopy\n",
    "\n",
    "from matplotlib.pylab import plt"
   ]
  },
  {
   "cell_type": "markdown",
   "id": "b2e5665b",
   "metadata": {},
   "source": [
    "... and define some functions that will help later on to visualize our trajectories and make nice plots. (ignore them and come back to this later in case you are curious)"
   ]
  },
  {
   "cell_type": "code",
   "execution_count": 2,
   "id": "a6309475",
   "metadata": {},
   "outputs": [],
   "source": [
    "def compute_L_points(mu, f):\n",
    "    \"\"\"Computes The exact position of the Lagrangian points. To do so it finds the zeros of the\n",
    "    the dynamics equation for px.\n",
    "    \n",
    "        Args:\n",
    "            mu (float): The value of the mu parameter.\n",
    "            f (heyoka expression): The px dynamics equation.\n",
    "\n",
    "        Returns:\n",
    "            xL1, xL2, xL3, xL45, yL45: The coordinates of the various Lagrangian Points\n",
    "    \"\"\"\n",
    "    # Position of the lagrangian points approximated\n",
    "    xL1 = (mu-1) + (mu/3/(1-mu))**(1/3)\n",
    "    xL2 = (mu-1) - (mu/3/(1-mu))**(1/3)\n",
    "    xL3 = -(mu-1) - 7/12 * mu / (1-mu)\n",
    "    yL45 = np.sin(60/180*np.pi)\n",
    "    xL45 = -0.5 + mu\n",
    "\n",
    "    # Solve for the static equilibrium from the approximated solution\n",
    "    def equilibrium(expr, x,y):\n",
    "        retval = hy.eval(expr, {\"x\":x, \"y\":y, \"z\":0, \"px\":-y, \"py\":x, \"pz\":0}, [mu])\n",
    "        return retval\n",
    "    xL1 = root_scalar(lambda x: equilibrium(f, x,0.), x0=xL1,x1=xL1-1e-2).root\n",
    "    xL2 = root_scalar(lambda x: equilibrium(f, x,0.), x0=xL2,x1=xL2-1e-2).root\n",
    "    xL3 = root_scalar(lambda x: equilibrium(f, x,0.), x0=xL3,x1=xL3-1e-2).root;\n",
    "    return xL1, xL2, xL3, xL45, yL45\n",
    "\n",
    "def potential_function(position,mu):\n",
    "    \"\"\"Computes the system potential\n",
    "        Args:\n",
    "            position (array-like): The position in Cartesian coordinates\n",
    "            mu (float): The value of the mu parameter.\n",
    "\n",
    "        Returns:\n",
    "            The potential\n",
    "    \"\"\"\n",
    "    x,y,z=position\n",
    "    r_1=np.sqrt((x-mu)**2+y**2+z**2)\n",
    "    r_2=np.sqrt((x-mu+1)**2+y**2+z**2)\n",
    "    Omega=1./2.*(x**2+y**2)+(1-mu)/r_1+mu/r_2\n",
    "    return Omega\n",
    "\n",
    "def jacobi_constant(state,mu):\n",
    "    \"\"\"Computes the system Jacobi constant\n",
    "        Args:\n",
    "            state (array-like): The system state (x,y,z,px,py,pz)\n",
    "            mu (float): The value of the mu parameter.\n",
    "\n",
    "        Returns:\n",
    "            The Jacobi constant for the state\n",
    "    \"\"\"\n",
    "    x,y,z,px,py,pz=state\n",
    "    vx = px + y\n",
    "    vy = py - x\n",
    "    vz = pz\n",
    "    r_1=np.sqrt((x-mu)**2+y**2+z**2)\n",
    "    r_2=np.sqrt((x-mu+1)**2+y**2+z**2)\n",
    "    Omega=1/2*(x**2+y**2)+(1-mu)/r_1+mu/r_2\n",
    "    T=1/2*(vx**2+vy**2+vz**2)\n",
    "    C=Omega-T\n",
    "    return C"
   ]
  },
  {
   "cell_type": "markdown",
   "id": "850ff8a6",
   "metadata": {},
   "source": [
    "We also define the CR3BP equations ... (see [circular restricted three-body problem](<./The restricted three-body problem.ipynb>)) "
   ]
  },
  {
   "cell_type": "code",
   "execution_count": 3,
   "id": "confused-excellence",
   "metadata": {},
   "outputs": [],
   "source": [
    "# Create the symbolic variables.\n",
    "symbols_state = [\"x\", \"y\", \"z\", \"px\", \"py\", \"pz\"]\n",
    "x = np.array(hy.make_vars(*symbols_state))\n",
    "# This will contain the r.h.s. of the equations\n",
    "f = []\n",
    "\n",
    "rps_32 = ((x[0] - hy.par[0])**2 + x[1]**2 + x[2]**2)**(-3/2.)\n",
    "rpj_32 = ((x[0] - hy.par[0]  + 1.)**2 + x[1]**2 + x[2]**2)**(-3/2.)\n",
    "\n",
    "# The equations of motion.\n",
    "f.append(x[3] + x[1])\n",
    "f.append(x[4] - x[0])\n",
    "f.append(x[5])\n",
    "f.append(x[4] - (1. - hy.par[0]) * rps_32 * (x[0] - hy.par[0]) - hy.par[0] * rpj_32 * (x[0] - hy.par[0] + 1.))\n",
    "f.append(-x[3] -((1. - hy.par[0]) * rps_32 + hy.par[0] * rpj_32) * x[1])\n",
    "f.append(-((1. - hy.par[0]) * rps_32 + hy.par[0] * rpj_32) * x[2])\n",
    "f = np.array(f)"
   ]
  },
  {
   "cell_type": "markdown",
   "id": "d92596db",
   "metadata": {},
   "source": [
    "and the corresponding variational equations (see and [Continuation of Periodic Orbits in the CR3BP](<./Periodic orbits in the CR3BP.ipynb>))), essentially computing the state transition matrix $\\mathbf \\Phi$."
   ]
  },
  {
   "cell_type": "code",
   "execution_count": 4,
   "id": "76d34b7d",
   "metadata": {},
   "outputs": [],
   "source": [
    "symbols_phi = []\n",
    "for i in range(6):\n",
    "    for j in range(6):\n",
    "        # Here we define the symbol for the variations\n",
    "        symbols_phi.append(\"phi_\"+str(i)+str(j))  \n",
    "phi = np.array(hy.make_vars(*symbols_phi)).reshape((6,6))"
   ]
  },
  {
   "cell_type": "code",
   "execution_count": 5,
   "id": "b1bd6632",
   "metadata": {},
   "outputs": [],
   "source": [
    "dfdx = []\n",
    "for i in range(6):\n",
    "    for j in range(6):\n",
    "        dfdx.append(hy.diff(f[i],x[j]))\n",
    "dfdx = np.array(dfdx).reshape((6,6))"
   ]
  },
  {
   "cell_type": "code",
   "execution_count": 6,
   "id": "4f3f2e07",
   "metadata": {},
   "outputs": [],
   "source": [
    "# The (variational) equations of motion\n",
    "dphidt = dfdx@phi"
   ]
  },
  {
   "cell_type": "markdown",
   "id": "ad47ad1a",
   "metadata": {},
   "source": [
    "Finally, we create the dynamics including all 6 + 6x6 = 42 equations:"
   ]
  },
  {
   "cell_type": "code",
   "execution_count": 7,
   "id": "65949284",
   "metadata": {},
   "outputs": [],
   "source": [
    "dyn = []\n",
    "for state, rhs in zip(x,f):\n",
    "    dyn.append((state, rhs))\n",
    "for state, rhs in zip(phi.reshape((36,)),dphidt.reshape((36,))):\n",
    "    dyn.append((state, rhs))\n",
    "# These are the initial conditions on the variational equations (the identity matrix)\n",
    "ic_var = np.eye(6).reshape((36,)).tolist()"
   ]
  },
  {
   "cell_type": "markdown",
   "id": "47618ce7",
   "metadata": {},
   "source": [
    "and instantiate the Taylor integrator (high accuracy and no compact mode)"
   ]
  },
  {
   "cell_type": "code",
   "execution_count": 8,
   "id": "37433a60",
   "metadata": {},
   "outputs": [
    {
     "name": "stdout",
     "output_type": "stream",
     "text": [
      "--- 11.609195470809937 seconds --- to build the Taylor integrator\n"
     ]
    }
   ],
   "source": [
    "start_time = time.time()\n",
    "ta = hy.taylor_adaptive(\n",
    "    # The ODEs.\n",
    "    dyn,\n",
    "    # The initial conditions.\n",
    "    [-0.45, 0.80, 0.00, -0.80, -0.45, 0.58] + ic_var,\n",
    "    # Operate below machine precision\n",
    "    # and in high-accuracy mode.\n",
    "    tol = 1e-18, high_accuracy = True\n",
    ")\n",
    "print(\"--- %s seconds --- to build the Taylor integrator\" % (time.time() - start_time))"
   ]
  },
  {
   "cell_type": "markdown",
   "id": "a67bc0d0",
   "metadata": {},
   "source": [
    "## The Pseudo arc-length continuation method\n",
    "In the most general form, and in a nutshell, numerical continuation considers a starting equation in the form:\n",
    "$$\n",
    "\\underline{{\\mathbf G}}\\left(\\underline{ \\mathbf x}, \\lambda\\right) = \\underline{\\mathbf 0}\n",
    "$$\n",
    "assumes a solution $\\underline{ \\mathbf x}_0, \\lambda_0$ is available and seeks a new solution $\\underline{ \\mathbf x}_0+\\delta\\underline{\\mathbf{x}}$ corrisponding to $\\lambda_0+\\delta \\lambda$. In cases where the solution curve implicitly defined by $\\underline{{\\mathbf G}}$ folds with respect to the continuation parameter $\\lambda$, this becomes clearly problematic. A common solution is to consider a new continuation parameter intrinsically linked to the solution curve geometry: the curve arc-length $s$. Assuming a reference $s=s_0$ (can be zero) in $\\underline{ \\mathbf x}_0, \\lambda_0$, the arc-length becomes a function of $\\underline{\\mathbf{x}}$ and $\\lambda$. We can then write $s = \\tilde s\\left(\\underline{ \\mathbf x}, \\lambda\\right)$.\n",
    "\n",
    "Under this idea one can formally write:\n",
    "$$\n",
    "\\left\\{\n",
    "\\begin{array}{l}\n",
    "\\underline{{\\mathbf G}}\\left(\\underline{ \\mathbf x}, \\lambda\\right) = \\underline{\\mathbf 0} \\\\\n",
    "\\tilde s\\left(\\underline{ \\mathbf x}, \\lambda\\right) - s = 0\n",
    "\\end{array}\n",
    "\\right.\n",
    "$$\n",
    "or, equivalently:\n",
    "$$\n",
    "\\underline{{\\mathbf G}}^*\\left(\\underline{ \\mathbf y}, s\\right) = \\underline{\\mathbf 0}\n",
    "$$\n",
    "where $\\underline{ \\mathbf y} = [\\underline{ \\mathbf y}, s ]$ and $\\underline{\\mathbf G}^*=[\\underline{\\mathbf G}, \\tilde s - s]$. Starting from the solution $\\underline{ \\mathbf x}_0, \\lambda_0, s_0$ we have reformulated the problem and may now seek a new solution $[\\underline{ \\mathbf x}_0+\\delta\\underline{\\mathbf{x}}, \\lambda_0+\\delta \\lambda]$ corresponding to $s_0+\\delta s$. We obtain (at least formally) a continuation scheme able to follow easily through folds of the $\\underline{ \\mathbf x}, \\lambda$ curve, since the $\\underline{ \\mathbf y}, s$ curve has none! (the arc-length is always uniformly increasing along the solution curve).\n",
    "\n",
    "The problem now is that we cannot really compute $\\tilde s$ easily! But we can approximate $\\delta s$ as the projection of $[\\delta \\underline{ \\mathbf x}, \\delta \\lambda]$ onto the tangent vector $\\mathbf \\tau = \\left[\\frac{d\\underline{ \\mathbf x}}{ds}, \\frac{d\\lambda}{ds}\\right]$ (hence the name **pseudo** arc-length is used). Eventually, the system:\n",
    "$$\n",
    "\\left\\{\n",
    "\\begin{array}{l}\n",
    "\\underline{{\\mathbf G}}\\left(\\underline{ \\mathbf x}, \\lambda\\right) = \\underline{\\mathbf 0} \\\\\n",
    "\\mathbf \\tau \\cdot [\\delta \\underline{ \\mathbf x}, \\delta \\lambda] +  s_0 - s = 0\n",
    "\\end{array}\n",
    "\\right.\n",
    "$$\n",
    "is considered and its solutions continued, now using $s$ as continuation parameter."
   ]
  },
  {
   "cell_type": "markdown",
   "id": "b0a72475",
   "metadata": {},
   "source": [
    "### The case of continuing periodic orbits.\n",
    "In the case of a search for periodic solutions to the system $\\dot{\\underline{\\mathbf x}} =\\underline{ \\mathbf f}(\\underline{\\mathbf x})$ we indicate the generic solution as $\\underline{ \\mathbf x}\\left(t; \\underline{ \\mathbf x}_0\\right)$ and may thus write the periodicity condition as:\n",
    "$$\n",
    "(1) \\qquad \\underline{ \\mathbf x}\\left(T; \\underline{ \\mathbf x}_0\\right) - \\underline{ \\mathbf x}_0 = \\mathbf 0\n",
    "$$\n",
    "We thus search for $\\underline{ \\mathbf x}_0, T$ roots of the equation above. Assuming we have one such solution, we will slightly abuse the notation and omit a further $0$ as a subscript in $\\underline{\\mathbf x}_0$ indicating such an initial solution simply as as $\\underline{\\mathbf x}_0, T_0$. To continue this initial solution we seek $\\delta\\underline{\\mathbf x}$ and $\\delta T$ so that:\n",
    "$$\n",
    "\\underline{ \\mathbf x}\\left(T_0 + \\delta T; \\underline{ \\mathbf x}_0 + \\delta\\underline{\\mathbf x}\\right) - \\underline{ \\mathbf x}_0 - \\delta\\underline{\\mathbf x}= \\mathbf 0\n",
    "$$\n",
    "In other words we are perturbing our initial condition and period and demand to end up in a new periodic orbit. It is straight forward to see that for any fixed $\\delta T$ there is more than one $\\underline{ \\mathbf x}_0$ that would do the trick. Infact any point on the whole new periodic orbit would work! Thus, as we saw also in [Continuation of Periodic Orbits in the CR3BP](<./Periodic orbits in the CR3BP.ipynb>), we need to add the Poincare' phasing condition and search, instead for a solution to the system:\n",
    "$$\n",
    "\\left\\{\n",
    "\\begin{array}{l}\n",
    "\\underline{ \\mathbf x}\\left(T_0 + \\delta T; \\underline{ \\mathbf x}_0 + \\delta\\underline{\\mathbf x}\\right) - \\underline{ \\mathbf x}_0 - \\delta\\underline{\\mathbf x}= \\mathbf 0 \\\\ \n",
    "\\delta \\underline{\\mathbf x} \\cdot \\underline{\\mathbf f} (\\underline{ \\mathbf x}_0) = 0\n",
    "\\end{array}\n",
    "\\right.\n",
    "$$\n",
    "this (both equations) is our $\\underline{{\\mathbf G}} = \\underline{\\mathbf 0}$ with $\\delta T$ being our continuation parameter. We now apply the pseudo arc-length condition to avoid issues when the solution curve folds for increasing periods. We get:\n",
    "$$\n",
    "(2) \\qquad\n",
    "\\left\\{\n",
    "\\begin{array}{l}\n",
    "\\underline{ \\mathbf x}\\left(T_0 + \\delta T; \\underline{ \\mathbf x}_0 + \\delta\\underline{\\mathbf x}\\right) - \\underline{ \\mathbf x}_0 - \\delta\\underline{\\mathbf x}= \\mathbf 0 \\\\ \n",
    "\\delta \\underline{\\mathbf x} \\cdot \\underline{\\mathbf f} (\\underline{ \\mathbf x}_0) = 0 \\\\\n",
    "\\mathbf \\tau \\cdot [\\delta \\underline{ \\mathbf x}, \\delta T] = \\delta s\n",
    "\\end{array}\n",
    "\\right.\n",
    "$$\n",
    "\n",
    "where $\\mathbf \\tau$ is found differentiating  with respect to $s$ our $\\underline{{\\mathbf G}}$ considering both $\\delta\\underline{\\mathbf x}(s)$ and $\\delta T(s)$ as a function of $s$ and then applying a normalization."
   ]
  },
  {
   "cell_type": "markdown",
   "id": "ec72f250",
   "metadata": {},
   "source": [
    "### Predictor\n",
    "If we expand in Taylor series the relation (2) we get:\n",
    "$$\n",
    "\\left\\{\n",
    "\\begin{array}{l}\n",
    "(\\underline{\\underline{\\mathbf \\Phi}}-\\underline{\\underline{\\mathbf I}})\\delta\\underline{\\mathbf x} + \\underline{\\mathbf f} \\delta T = \\underline{\\mathbf 0}\\\\ \n",
    "\\delta \\underline{\\mathbf x} \\cdot \\underline{\\mathbf f} (\\underline{ \\mathbf x}_0) = 0 \\\\\n",
    "\\mathbf \\tau \\cdot [\\delta \\underline{ \\mathbf x}, \\delta T] = \\delta s\n",
    "\\end{array}\n",
    "\\right.\n",
    "$$\n",
    "which for the basis to get a first guess (predictor) on the new continued state. \n",
    "\n",
    "It is convenient to assemble the following matrix:\n",
    "$$\n",
    "\\underline{\\underline{\\mathbf A}} = \n",
    "\\left[\n",
    "\\begin{array}{cc}\n",
    "\\underline{\\underline{\\mathbf \\Phi}}-\\underline{\\underline{\\mathbf I}} & \\underline {\\mathbf f} \\\\\n",
    "\\underline {\\mathbf f}^T & 0 \\\\\n",
    "\\underline {\\mathbf \\tau}_x^T & \\tau_T\n",
    "\\end{array}\n",
    "\\right]\n",
    "$$\n",
    "then, the predictor scheme, becomes:"
   ]
  },
  {
   "cell_type": "code",
   "execution_count": 9,
   "id": "0aac0f93",
   "metadata": {},
   "outputs": [],
   "source": [
    "# Single iteration from ic, t_final, ds\n",
    "def predictor(x0, T0, ds):\n",
    "    # 1 - We compute the state transition matrix Phi (integrating the full EOM for t_final)\n",
    "    ta.time = 0.\n",
    "    ta.state[:] = x0.tolist() + ic_var\n",
    "    out = ta.propagate_until(T0)\n",
    "    Phi = ta.state[6:].reshape((6,6))\n",
    "    # 2 - We compute the dynamics f (at zero, but for periodic orbits this is the same at T)\n",
    "    state_dict = {\"x\":x0[0], \"y\":x0[1], \"z\":x0[2], \"px\":x0[3], \"py\":x0[4], \"pz\":x0[5]}\n",
    "    f_dyn = np.array([hy.eval(f[i], state_dict, [mu]) for i in range(6)]).reshape((-1,1))\n",
    "    # 3 - Assemble the matrix A\n",
    "    A = np.concatenate((Phi-np.eye(6), f_dyn.T))\n",
    "    A = np.concatenate((A,np.insert(f_dyn,-1,0).reshape((-1,1))), axis=1)\n",
    "    # 4 - Compute the tangent vector tau\n",
    "    tauT = 1\n",
    "    taux = - np.linalg.inv(A[:,:6].T@A[:,:6])@(A[:,:6].T@A[:,-1]) * tauT\n",
    "    norm = np.sqrt(taux@taux + tauT*tauT)\n",
    "    tauT/=norm\n",
    "    taux/=norm\n",
    "    # 5 - Add to the matrix A\n",
    "    tmp = np.insert(taux,6,tauT).reshape(1,-1)\n",
    "    A = np.concatenate((A, tmp))\n",
    "    # 6 - Compute the b vector\n",
    "    b = np.zeros((8,1))\n",
    "    b[7,0] = ds\n",
    "    # 6 - Predict an initial guess\n",
    "    y = np.linalg.inv(A.T@A)@(A.T@b)\n",
    "    return y, taux, tauT"
   ]
  },
  {
   "cell_type": "markdown",
   "id": "a2c4fc2e",
   "metadata": {},
   "source": [
    "Lets instantiate our periodic solution. It is the same Lyapunov orbit we have used in the example [Continuation of Periodic Orbits in the CR3BP](<./Periodic orbits in the CR3BP.ipynb>). "
   ]
  },
  {
   "cell_type": "code",
   "execution_count": 10,
   "id": "3acbb840",
   "metadata": {},
   "outputs": [],
   "source": [
    "# These conditions correspond to a Lyapunov orbit closeto the L2 point\n",
    "ic = np.array([-8.3660628427188066e-01, 6.8716725011222035e-05, 0.0000000000000000e+00, -2.3615604665605682e-05, -8.3919863043620713e-01, 0.0000000000000000e+00])\n",
    "t_final=2.6915996001673941e+00\n",
    "mu=0.01215057\n",
    "ta.pars[0] = mu\n",
    "# Reset the state\n",
    "ta.time = 0\n",
    "ta.state[:] = ic.tolist() + ic_var\n",
    "# Time grid\n",
    "t_grid = np.linspace(0, t_final, 2000)"
   ]
  },
  {
   "cell_type": "code",
   "execution_count": 11,
   "id": "c02c7bac",
   "metadata": {},
   "outputs": [
    {
     "name": "stdout",
     "output_type": "stream",
     "text": [
      "--- 0.0027968883514404297 seconds --- to propagate\n"
     ]
    }
   ],
   "source": [
    "# Go ...\n",
    "start_time = time.time()\n",
    "out = ta.propagate_grid(t_grid)\n",
    "print(\"--- %s seconds --- to propagate\" % (time.time() - start_time))"
   ]
  },
  {
   "cell_type": "code",
   "execution_count": 12,
   "id": "61c624bb",
   "metadata": {},
   "outputs": [],
   "source": [
    "# Pseudo arc-length\n",
    "ds = 1e-3\n",
    "# We call the predictor\n",
    "predicted, taux, tauT = predictor(ic, t_final, ds)"
   ]
  },
  {
   "cell_type": "markdown",
   "id": "a58f836c",
   "metadata": {},
   "source": [
    "# Corrector\n",
    "We now want to find  $\\underline{\\mathbf y} = [\\delta \\underline{\\mathbf{x}}, \\delta T]$ so that the system of equations (2), here reported for cenvenience, is satisfied:\n",
    "$$\n",
    "\\qquad\n",
    "\\left\\{\n",
    "\\begin{array}{l}\n",
    "\\underline{ \\mathbf x}\\left(T_0 + \\delta T; \\underline{ \\mathbf x}_0 + \\delta\\underline{\\mathbf x}\\right) - \\underline{ \\mathbf x}_0 - \\delta\\underline{\\mathbf x}= \\mathbf 0 \\\\ \n",
    "\\delta \\underline{\\mathbf x} \\cdot \\underline{\\mathbf f} (\\underline{ \\mathbf x}_0) = 0 \\\\\n",
    "\\mathbf \\tau \\cdot [\\delta \\underline{ \\mathbf x}, \\delta T] = \\delta s\n",
    "\\end{array}\n",
    "\\right.\n",
    "$$\n",
    "and can start from the guess returned by the predictor step.\n",
    "\n",
    "Different methods can be used to solve the overdetermined system of equations above (which admits a unique solution), we here use the least-square method implemented in scipy and also give our own implementation of a Newton based method.\n",
    "\n",
    "First, we need to define a function that checks, for some $\\underline{\\mathbf y} = [\\delta \\underline{\\mathbf{x}}, \\delta T]$, whether the equations (2) are satistied."
   ]
  },
  {
   "cell_type": "code",
   "execution_count": 13,
   "id": "e2248db0",
   "metadata": {},
   "outputs": [],
   "source": [
    "def full_system(y, taux, tauT, ds):\n",
    "    dx = deepcopy(y[:6])\n",
    "    dT = deepcopy(y[6])\n",
    "    x = ic + dx.T\n",
    "    propagation_time = t_final + dT\n",
    "    # 1 - We compute the state at propagation_time\n",
    "    ta.time = 0.\n",
    "    ta.state[:] = x.tolist() + ic_var\n",
    "    out = ta.propagate_until(propagation_time)\n",
    "    # 2 - We compute the dynamics f (at zero, but for periodic orbits this is the same at T)\n",
    "    state_dict = {\"x\":ic[0], \"y\":ic[1], \"z\":ic[2], \"px\":ic[3], \"py\":ic[4], \"pz\":ic[5]}\n",
    "    f_dyn0 = np.array([hy.eval(f[i], state_dict, [mu]) for i in range(6)]).reshape((-1,1))\n",
    "    # 3 - Error on the state\n",
    "    state_err = ta.state[:6] - x\n",
    "    # Error on Poincare phasing\n",
    "    poin_err = dx@f_dyn0\n",
    "    # Error on pseudo arc-length\n",
    "    pseudo_err = taux@dx+tauT*dT - ds\n",
    "    # 4 - Assemble return value\n",
    "    retval = np.insert(state_err,6, poin_err)\n",
    "    retval = np.insert(retval,7, pseudo_err)\n",
    "    return retval"
   ]
  },
  {
   "cell_type": "markdown",
   "id": "b3db289c",
   "metadata": {},
   "source": [
    "... we can then call the scipy.optimze.least_squares method that will estimate gradients numerically."
   ]
  },
  {
   "cell_type": "code",
   "execution_count": 14,
   "id": "5c6a9158",
   "metadata": {},
   "outputs": [],
   "source": [
    "# A least squared corrector\n",
    "def corrector_ls(y, taux, tauy, ds, tol = 1e-12):\n",
    "    sol = least_squares(lambda x: full_system(x, taux, tauT, ds), y, ftol = tol)\n",
    "    return sol.x"
   ]
  },
  {
   "cell_type": "code",
   "execution_count": 15,
   "id": "67190515",
   "metadata": {},
   "outputs": [],
   "source": [
    "corrected_ls = corrector_ls(predicted[:,0], taux, tauT, ds, tol=1e-14)"
   ]
  },
  {
   "cell_type": "markdown",
   "id": "6fab1942",
   "metadata": {},
   "source": [
    "Here we implement our own Newton based method making use of the variational equations to compute the necessary gradient."
   ]
  },
  {
   "cell_type": "code",
   "execution_count": 16,
   "id": "75fd9508",
   "metadata": {},
   "outputs": [],
   "source": [
    "def corrector_Newton(y, taux, tauy, ds, tol=1e-12, max_iter=100, verbose = False):  \n",
    "    flag_tol = False\n",
    "    \n",
    "    curr_dx = deepcopy(y[:6])\n",
    "    curr_dT = deepcopy(y[6])\n",
    "    \n",
    "    # Linearization point\n",
    "    curr_x = ic + curr_dx.T\n",
    "    curr_T = t_final + curr_dT\n",
    "    \n",
    "    for i in range(max_iter):\n",
    "        # 1 - We compute the state transition matrix Phi (integrating the full EOM from curr_x for t_final)\n",
    "        ta.time = 0.\n",
    "        ta.state[:] = curr_x.tolist() + ic_var\n",
    "        out = ta.propagate_until(curr_T)\n",
    "        Phi = ta.state[6:].reshape((6,6))\n",
    "        # 2 - We compute the dynamics f (at the initial state)\n",
    "        state_dict = {\"x\":ic[0], \"y\":ic[1], \"z\":ic[2], \"px\":ic[3], \"py\":ic[4], \"pz\":ic[5]}\n",
    "        f_dyn0 = np.array([hy.eval(f[i], state_dict, [mu]) for i in range(6)]).reshape((-1,1))\n",
    "        # 3 - We compute the dynamics f (at curr_T)\n",
    "        state_dict = {\"x\":ta.state[0], \"y\":ta.state[1], \"z\":ta.state[2], \"px\":ta.state[3], \"py\":ta.state[4], \"pz\":ta.state[5]}\n",
    "        f_dynT = np.array([hy.eval(f[i], state_dict, [mu]) for i in range(6)]).reshape((-1,1))\n",
    "        # 4 - Assemble the function (the full nonlinear system) value at the current point\n",
    "        state_err = ta.state[:6] - curr_x\n",
    "        # Error on Poincare phasing\n",
    "        poin_err = curr_dx@f_dyn0\n",
    "        # Error on pseudo arc-length\n",
    "        pseudo_err = taux@curr_dx+tauT*curr_dT - ds\n",
    "        b = np.zeros((8,1))\n",
    "        b[:6,0] = - state_err\n",
    "        b[6,0] = - poin_err\n",
    "        b[7,0] = - pseudo_err\n",
    "        if verbose:\n",
    "            print(np.linalg.norm(state_err), poin_err, pseudo_err)\n",
    "        toterror = np.abs(np.linalg.norm(state_err)) + np.abs(poin_err) + np.abs(pseudo_err)\n",
    "        if toterror < tol:\n",
    "            flag_tol = True\n",
    "            break\n",
    "        # 5 - Assemble the matrix A (gradient)\n",
    "        A = np.concatenate((Phi-np.eye(6), f_dynT.T))\n",
    "        A = np.concatenate((A,np.insert(f_dynT,-1,0).reshape((-1,1))), axis=1)\n",
    "        # add the tau row\n",
    "        tmp = np.insert(taux,6,tauT).reshape(1,-1)\n",
    "        A = np.concatenate((A, tmp))\n",
    "        \n",
    "        # Solve for new y = [dx, dT]\n",
    "        y = (np.linalg.inv(A.T@A)@A.T@b).reshape(-1,)\n",
    "        curr_dx += y[:6]\n",
    "        curr_dT += y[6]\n",
    "        curr_x = ic + curr_dx.T\n",
    "        curr_T = t_final + curr_dT\n",
    "    if verbose:\n",
    "        if flag_tol:\n",
    "            print(\"Exit condition - Accuracy\")\n",
    "        else:\n",
    "            print(\"Exit condition - Maximum Iterations\")\n",
    "        print(\"Accuracy achieved: \", toterror)\n",
    "        print(\"Iterations: \", i)\n",
    "    return np.insert(curr_dx.T, 6, curr_dT)"
   ]
  },
  {
   "cell_type": "code",
   "execution_count": 17,
   "id": "bb8fd920",
   "metadata": {},
   "outputs": [],
   "source": [
    "corrected_N = corrector_Newton(predicted[:,0], taux, tauT, ds, tol=1e-14)"
   ]
  },
  {
   "cell_type": "markdown",
   "id": "f75856a0",
   "metadata": {},
   "source": [
    "We now assess if the system (2) is actually solved, and to what precision, in both cases:"
   ]
  },
  {
   "cell_type": "code",
   "execution_count": 18,
   "id": "f62a73e5",
   "metadata": {},
   "outputs": [
    {
     "name": "stdout",
     "output_type": "stream",
     "text": [
      "Error for the Newton method: 9.086202142573234e-15\n",
      "Error for the Least-squares method: 7.326917966640977e-13\n"
     ]
    }
   ],
   "source": [
    "errN = full_system(corrected_N, taux, tauT,ds)\n",
    "err_ls = full_system(corrected_ls, taux, tauT,ds)\n",
    "print(\"Error for the Newton method:\", np.linalg.norm(errN))\n",
    "print(\"Error for the Least-squares method:\", np.linalg.norm(err_ls))"
   ]
  },
  {
   "cell_type": "markdown",
   "id": "6ce7cfce",
   "metadata": {},
   "source": [
    "And check the CPU time:"
   ]
  },
  {
   "cell_type": "code",
   "execution_count": 22,
   "id": "0d0785a7",
   "metadata": {},
   "outputs": [
    {
     "name": "stdout",
     "output_type": "stream",
     "text": [
      "22.7 ms ± 6.2 ms per loop (mean ± std. dev. of 7 runs, 10 loops each)\n"
     ]
    }
   ],
   "source": [
    "%timeit corrector_Newton(predicted[:,0], taux, tauT, ds, tol=1e-14)"
   ]
  },
  {
   "cell_type": "code",
   "execution_count": 23,
   "id": "8041e807",
   "metadata": {},
   "outputs": [
    {
     "name": "stdout",
     "output_type": "stream",
     "text": [
      "38 ms ± 8.11 ms per loop (mean ± std. dev. of 7 runs, 10 loops each)\n"
     ]
    }
   ],
   "source": [
    "%timeit corrector_ls(predicted[:,0], taux, tauT, ds, tol=1e-14)"
   ]
  },
  {
   "cell_type": "markdown",
   "id": "14dc068a",
   "metadata": {},
   "source": [
    "Note that this CPU timing comparison is not fair, as the least square solver is still integrating the variational equations, but not using the associated gradient information."
   ]
  }
 ],
 "metadata": {
  "kernelspec": {
   "display_name": "Python 3 (ipykernel)",
   "language": "python",
   "name": "python3"
  },
  "language_info": {
   "codemirror_mode": {
    "name": "ipython",
    "version": 3
   },
   "file_extension": ".py",
   "mimetype": "text/x-python",
   "name": "python",
   "nbconvert_exporter": "python",
   "pygments_lexer": "ipython3",
   "version": "3.10.4"
  }
 },
 "nbformat": 4,
 "nbformat_minor": 5
}
