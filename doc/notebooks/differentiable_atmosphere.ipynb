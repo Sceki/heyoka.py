{
 "cells": [
  {
   "cell_type": "markdown",
   "metadata": {},
   "source": [
    "# Differentiable Atmosphere\n",
    "\n",
    "This notebook introduces a differentiable atmosphere model useful for propagating satellites in low-Earth orbit with *heyoka.py*.\n",
    "\n",
    "To do this, we leverage the key observation that the thermosphere as a piecewise exponential behavior with respect to altitude. \n",
    "\n",
    "Then, on top of that, the thermosphere is subject to variations at different longitude, latitude, and times, due to seasonal variations, diurnal variations, geomagnetic storms, and more. \n",
    "\n",
    "Hence, we write the neutral density profile as a sum of exponentials:\n",
    "\n",
    "$$\n",
    "\\rho = \\sum_i \\alpha_i \\ \\textrm{exp}(-\\beta_i (h-\\gamma_i))\n",
    "$$\n",
    "and we then use a neural network to learn the values of these exponential at different locations, solar conditions and times. In the equation, $h$ is the altitude, and $\\alpha_i, \\beta_i, \\gamma_i$ are the exponential parameters, which will be predicted using a neural network. \n",
    "\n",
    "However, to enhance the training, we did not directly learn the coefficients, but we instead first used stochastic gradient descent to find constant coefficients (i.e., $\\overline{\\alpha}_i, \\overline{\\beta}_i, \\overline{\\gamma}_i$) that minimize the loss of the above equation compared to the target density, then we used the feed-forward neural network to only learn a correction to those. In this way, the final coefficients can be expressed as:\n",
    "\n",
    "$$\n",
    "\\begin{align*}\n",
    "\\alpha_i&=\\overline{\\alpha}_i+\\delta \\alpha_i\\\\\n",
    "\\beta_i&=\\overline{\\beta}_i+\\delta \\beta_i\\\\\n",
    "\\gamma_i&=\\overline{\\gamma}_i+\\delta \\gamma_i \n",
    "\\end{align*}\n",
    "$$\n",
    "\n",
    "which means that the neutral density will be written as:\n",
    "\n",
    "\n",
    "$$\n",
    "\\rho = \\sum_i (\\overline{\\alpha}_i+\\delta \\alpha_i) \\ \\textrm{exp}(-\\big(\\overline{\\beta}_i+\\delta \\beta_i\\big) \\big(h-(\\overline{\\gamma}_i+\\delta \\gamma_i)\\big))\n",
    "$$\n",
    "\n",
    "Hence, the network will only predict the corrections:\n",
    "$$\n",
    "\\pmb{x}\\rightarrow \\mathcal{N}_\\theta\\rightarrow \\delta \\alpha_i, \\delta \\beta_i, \\delta \\gamma_i \n",
    "$$\n",
    "\n",
    "Here, we refer as $\\pmb{x}$ to all the set of input parameters used during network training.\n",
    "\n",
    "Now, we need to pass the inputs to the neural network. The network has been trained with the following inputs:\n",
    "* latitude normalized between `[-1,1]`\n",
    "* sine of longitude \n",
    "* cosine of longitude\n",
    "* sine of seconds in the day, where seconds in the day are first transformed in `[0,2$\\pi$]`\n",
    "* cosine of seconds in the day, where seconds in the day are first transformed in `[0,2$\\pi$]`\n",
    "* F10.7 normalized between `[-1,1]`, using the bounds `[60.,290.]`\n",
    "* F10.7 81-day average normalized between `[-1,1]`, using the bounds `[60.,190.]`\n",
    "* Ap index normalized between `[-1,1]`, using the bounds `[0.,140.]`\n",
    "\n",
    "For training the neural network, we need thermospheric density values that can be used as target. In our case study, we used [NRLMSISE-00](https://en.wikipedia.org/wiki/NRLMSISE-00) (a popular empirical density model in the community), however, the same approach can also be extended to other models ([JB-08](https://ccmc.gsfc.nasa.gov/models/JB2008~2008/), [HASDM](https://www.sciencedirect.com/science/article/pii/S0273117705002048), etc.).\n",
    "\n",
    "The network training was done using [PyTorch](https://pytorch.org/).\n",
    "\n",
    "In this tutorial, we will instead use an already trained model, whose weights and biases can be found under `data/nrlmsise00_flattened_nw.txt`.\n",
    "We now load the model flattened weights and biases, and construct the `heyoka.ffnn`\n",
    "\n",
    "```{note}\n",
    "for a tutorial on how to load the weights and biases from a torch model to an heyoka.py, check out the tutorial: [Interfacing torch to heyoka.py](<./torch_and_heyoka.ipynb>)\n",
    "```\n"
   ]
  },
  {
   "cell_type": "code",
   "execution_count": 1,
   "metadata": {},
   "outputs": [],
   "source": [
    "#Imports:\n",
    "import heyoka as hk\n",
    "import numpy as np\n",
    "import datetime\n",
    "import time\n",
    "import matplotlib.pyplot as plt"
   ]
  },
  {
   "cell_type": "markdown",
   "metadata": {},
   "source": [
    "We now need to instantiate the state variables:"
   ]
  },
  {
   "cell_type": "code",
   "execution_count": 2,
   "metadata": {},
   "outputs": [],
   "source": [
    "x,y,z,vx,vy,vz=hk.make_vars(\"x\",\"y\",\"z\",\"vx\",\"vy\",\"vz\")"
   ]
  },
  {
   "cell_type": "markdown",
   "metadata": {},
   "source": [
    "However, the neural network inputs, similar to NRLMSISE-00 and other models, accept the geodetic coordinates as inputs.\n",
    "\n",
    "Here, we use the method discussed in [\"Physical Geodesy\" by Heiskanen and Moritz, 1967](https://library.wur.nl/WebQuery/titel/1236290), to transfor the Cartesian coordinates into geodetic ones. \n",
    "For the Earth ellipsoid parameters, we use the [WGS-84](https://en.wikipedia.org/wiki/World_Geodetic_System#WGS_84) ellipsoid. \n",
    "\n",
    "Having said this, this is the method that returns the geodetic coordinates:"
   ]
  },
  {
   "cell_type": "code",
   "execution_count": 3,
   "metadata": {},
   "outputs": [],
   "source": [
    "#here we use the solution from: \"Physical Geodesy\" by Heiskanen and Moritz, 1967\n",
    "def from_position_to_geodetic(x,y,z,a_earth=6378137.0,b_earth=6356752.314245,iters=4):\n",
    "    long=hk.atan2(y,x)\n",
    "    p=hk.sqrt(x**2+y**2)\n",
    "    e=np.sqrt((a_earth**2-b_earth**2)/a_earth**2)\n",
    "    phi=hk.atan(z/p/(1-e**2))\n",
    "    #we iterate to improve the solution\n",
    "    for _ in range(iters):            \n",
    "        N=a_earth**2/hk.sqrt(a_earth**2*hk.cos(phi)**2+b_earth**2*hk.sin(phi)**2)\n",
    "        h=p/hk.cos(phi)-N\n",
    "        phi=hk.atan(z/p/(1-e**2*N/(N+h)))\n",
    "    return h/1e3,phi,long"
   ]
  },
  {
   "cell_type": "code",
   "execution_count": 4,
   "metadata": {},
   "outputs": [],
   "source": [
    "altitude,lat,lon=from_position_to_geodetic(x,y,z)"
   ]
  },
  {
   "cell_type": "markdown",
   "metadata": {},
   "source": [
    "```{note}\n",
    "In this tutorial, we integrate for about ten hours (i.e., within one day): hence the parameters Ap, F10.7, F10.7 average stay constant, which is why we set them to constant values.\n",
    "```"
   ]
  },
  {
   "cell_type": "code",
   "execution_count": 5,
   "metadata": {},
   "outputs": [],
   "source": [
    "lat_n=lat/np.pi*2\n",
    "sin_lon=hk.sin(lon)\n",
    "cos_lon=hk.cos(lon)\n",
    "date0=datetime.datetime(2009, 1, 2, 15, 0)\n",
    "offset=date0.second+date0.minute*60.+date0.hour*3600.\n",
    "sec_in_day_n=(hk.time+offset)/86400.*2*np.pi\n",
    "cos_sec_in_day=hk.cos(sec_in_day_n)\n",
    "sin_sec_in_day=hk.sin(sec_in_day_n)\n",
    "f107_n, f107A_n, ap_n=(0.17409463226795197, -0.5575244426727295, 0.1701483279466629)"
   ]
  },
  {
   "cell_type": "markdown",
   "metadata": {},
   "source": [
    "We load the pre-trained weights and biases for the `ffnn`:"
   ]
  },
  {
   "cell_type": "code",
   "execution_count": 6,
   "metadata": {},
   "outputs": [],
   "source": [
    "flattened_nw=np.loadtxt('data/nrlmsise00_flattened_nw.txt')"
   ]
  },
  {
   "cell_type": "markdown",
   "metadata": {},
   "source": [
    "We are now ready to instantiate the `heyoka.ffnn`:"
   ]
  },
  {
   "cell_type": "code",
   "execution_count": 7,
   "metadata": {},
   "outputs": [],
   "source": [
    "model_heyoka=hk.model.ffnn(inputs=[lat_n,sin_lon,cos_lon,sin_sec_in_day, cos_sec_in_day, hk.expression(f107_n), hk.expression(f107A_n), hk.expression(ap_n)],\n",
    "                           nn_hidden=[32,32], \n",
    "                           n_out=12, \n",
    "                           activations=[hk.tanh,hk.tanh,hk.tanh], \n",
    "                           nn_wb=flattened_nw)\n"
   ]
  },
  {
   "cell_type": "markdown",
   "metadata": {},
   "source": [
    "The above network predicts the correction to the parameters of the exponentials (i.e., $\\delta \\alpha_i$, $\\delta \\beta_i$, $\\delta \\gamma_i$, to use the terminology above).\n",
    "\n",
    "Thus, to reconstruct the density, we shall first define a function that composes the sum of exponentials:"
   ]
  },
  {
   "cell_type": "code",
   "execution_count": 8,
   "metadata": {},
   "outputs": [],
   "source": [
    "#this are the constant\n",
    "fit_params_all=np.zeros((1,12))\n",
    "fit_params_all[0,0]=1.1961831205553608e-06\n",
    "fit_params_all[0,3]=0.7521974444389343\n",
    "fit_params_all[0,6]=3.916130530967621e-09\n",
    "fit_params_all[0,9]=1.4778674432228828e-13\n",
    "fit_params_all[0,1]=0.04639218747615814\n",
    "fit_params_all[0,4]=0.18178749084472656\n",
    "fit_params_all[0,7]=0.019965510815382004\n",
    "fit_params_all[0,10]=0.004425965249538422\n",
    "fit_params_all[0,2]=5.996347427368164\n",
    "fit_params_all[0,5]=21.895925521850586\n",
    "fit_params_all[0,8]=2.3234505653381348\n",
    "fit_params_all[0,11]=0.26730024814605713\n",
    "def neutral_density(altitude, \n",
    "                    model_heyoka,\n",
    "                    factor=0.9):\n",
    "    density=0.\n",
    "    for i in range(0,fit_params_all.shape[1]-1,3):\n",
    "        density += (fit_params_all[0,i].item()*(1+factor*model_heyoka[i])*hk.exp(-fit_params_all[0,i+1].item()*(1.+factor*model_heyoka[i+1])*(altitude-(fit_params_all[0,i+2].item()*(1.+factor*model_heyoka[i+2])))))\n",
    "    return density"
   ]
  },
  {
   "cell_type": "markdown",
   "metadata": {},
   "source": [
    "Let's now use the function to instantiate the neutral density model with feed-forward neural network correction:"
   ]
  },
  {
   "cell_type": "code",
   "execution_count": 9,
   "metadata": {},
   "outputs": [],
   "source": [
    "density_nn = neutral_density(altitude=altitude, \n",
    "                            model_heyoka=model_heyoka)"
   ]
  },
  {
   "cell_type": "markdown",
   "metadata": {},
   "source": [
    "All right, but the above model uses constant values for the weights & biases: what if I want to symbolically write the neural network output using the weights and biases as symbols? \n",
    "\n",
    "*heyoka.py* lets you do this:"
   ]
  },
  {
   "cell_type": "code",
   "execution_count": 10,
   "metadata": {},
   "outputs": [],
   "source": [
    "##### Parametric NN #####\n",
    "model_heyoka_par=hk.model.ffnn(inputs=[lat_n,sin_lon,cos_lon,sin_sec_in_day, cos_sec_in_day, hk.expression(f107_n), hk.expression(f107A_n), hk.expression(ap_n)],\n",
    "                           nn_hidden=[32,32], \n",
    "                           n_out=int(3*4), \n",
    "                           activations=[hk.tanh,hk.tanh,hk.tanh])\n",
    "density_par = neutral_density(altitude=altitude, \n",
    "                              model_heyoka=model_heyoka_par)"
   ]
  },
  {
   "cell_type": "markdown",
   "metadata": {},
   "source": [
    "Let's now do the same, but zeroing out the correction terms: this corresponds to the neutral density model optimized to represent the target density, but with constant coefficients"
   ]
  },
  {
   "cell_type": "code",
   "execution_count": 11,
   "metadata": {},
   "outputs": [],
   "source": [
    "density_fit_global = neutral_density(altitude=altitude,\n",
    "                                    model_heyoka=model_heyoka, \n",
    "                                    factor=0.)"
   ]
  },
  {
   "cell_type": "markdown",
   "metadata": {},
   "source": [
    "## Numerical Integration with Differentiable Atmosphere"
   ]
  },
  {
   "cell_type": "markdown",
   "metadata": {},
   "source": [
    "All right... we have constructed the neutral density model using a NN, and using a global fit. How can these be used for predicting the orbit of a satellite in low-Earth orbit? And how do they compare to `scipy` integration using the `NRLMSISE-00` model itself?\n",
    "\n",
    "Let's investigate this..\n",
    "\n",
    "First some useful constants:"
   ]
  },
  {
   "cell_type": "code",
   "execution_count": 12,
   "metadata": {},
   "outputs": [],
   "source": [
    "#First we need to set some variables useful for integration:\n",
    "mu = 3.986004407799724e14   #Earth gravitational parameter SI\n",
    "r_earth = 6378.1363*1e3     #Earth radius SI\n",
    "initial_h=350.*1e3          #Satellite's initial altitude SI\n",
    "mass=200                    #mass of the satellite SI\n",
    "area=2#                     drag cross-sectional area of the satellite in SI\n",
    "cd=2.2#                     drag coefficient [-]\n",
    "bc = mass/(cd*area)         #ballistic coefficient in SI\n",
    "#we assume a circular orbit at first\n",
    "initial_state=[r_earth+initial_h,0.,0., 0., np.sqrt(mu/(r_earth+initial_h)),0.]\n",
    "#finally, we need to de-normalize the solar indices of the day of the integration:\n",
    "f107=(1+f107_n)/2*(290.-60.)+60.\n",
    "f107A=(1+f107A_n)/2*(190.-60.)+60.\n",
    "ap=(1+ap_n)/2*(140.-0.)+0.\n"
   ]
  },
  {
   "cell_type": "markdown",
   "metadata": {},
   "source": [
    "### Scipy + NRLMSISE-00\n",
    "\n",
    "This is the standard scipy integration, using NRLMSISE-00 as neutral density model\n",
    "\n",
    "```{warning}\n",
    "to run this, the [nrlmsise00](https://pypi.org/project/nrlmsise00/) pypi package shall be first installed\n",
    "```\n",
    "\n",
    "First, we define the dynamics:"
   ]
  },
  {
   "cell_type": "code",
   "execution_count": 13,
   "metadata": {},
   "outputs": [],
   "source": [
    "from scipy.integrate import solve_ivp\n",
    "from nrlmsise00 import msise_flat\n",
    "def from_position_to_geodetic_(x,y,z,a_earth=6378137.0,b_earth=6356752.314245,iters=4):\n",
    "    long=np.arctan2(y,x)\n",
    "    p=np.sqrt(x**2+y**2)\n",
    "    e=np.sqrt((a_earth**2-b_earth**2)/a_earth**2)\n",
    "    phi=np.arctan(z/p/(1-e**2))\n",
    "    #we iterate to improve the solution\n",
    "    for _ in range(iters):            \n",
    "        N=a_earth**2/np.sqrt(a_earth**2*np.cos(phi)**2+b_earth**2*np.sin(phi)**2)\n",
    "        h=p/np.cos(phi)-N\n",
    "        phi=np.arctan(z/p/(1-e**2*N/(N+h)))\n",
    "    return h/1e3,phi,long\n",
    "\n",
    "def dxdt(t, state, mu, f107A, f107, ap, bc, date0):\n",
    "    x,y,z,vx,vy,vz=state\n",
    "    r=np.sqrt(x**2+y**2+z**2)\n",
    "    h,lat,long=from_position_to_geodetic_(x,y,z)\n",
    "    #nrlmsise-00 density (takes: datetime, altitude [km], latitude [deg], longitude [deg], f107, f107A, ap)\n",
    "    rho=msise_flat(time=date0+datetime.timedelta(seconds=t), alt=h, lat=np.rad2deg(lat), lon=np.rad2deg(long), f107a=f107A, f107=f107, ap=ap)[5]*1e3\n",
    "    adrag_x=-1/2*rho*np.sqrt(vx**2+vy**2+vz**2)*vx/bc\n",
    "    adrag_y=-1/2*rho*np.sqrt(vx**2+vy**2+vz**2)*vy/bc\n",
    "    adrag_z=-1/2*rho*np.sqrt(vx**2+vy**2+vz**2)*vz/bc\n",
    "    ax=-mu*x/r**3+adrag_x\n",
    "    ay=-mu*y/r**3+adrag_y\n",
    "    az=-mu*z/r**3+adrag_z\n",
    "    return np.array([vx,vy,vz,ax,ay,az])\n",
    "    "
   ]
  },
  {
   "cell_type": "markdown",
   "metadata": {},
   "source": [
    "Then, we set up the integration:\n",
    "    \n",
    "```{note}\n",
    "To have a fair comparison, as integrator, we use `DOP853` with absolute and relative tolerances of $10^{-14}$, and we then select the same tolerances for the Taylor integrator)\n",
    "```"
   ]
  },
  {
   "cell_type": "code",
   "execution_count": 14,
   "metadata": {},
   "outputs": [
    {
     "name": "stderr",
     "output_type": "stream",
     "text": [
      "/Users/ga00693/miniconda3/envs/diff_drag_py38/lib/python3.8/site-packages/scipy/integrate/_ivp/common.py:47: UserWarning: At least one element of `rtol` is too small. Setting `rtol = np.maximum(rtol, 2.220446049250313e-14)`.\n",
      "  warn(\"At least one element of `rtol` is too small. \"\n"
     ]
    },
    {
     "name": "stdout",
     "output_type": "stream",
     "text": [
      "--- 0.6513950824737549 seconds --- to propagate\n"
     ]
    }
   ],
   "source": [
    "t_span=(0.,60.*60*10.) #10 hours propagation\n",
    "\n",
    "start_time = time.time()\n",
    "sol = solve_ivp(dxdt, \n",
    "                t_span, \n",
    "                initial_state, \n",
    "                args=(mu, f107A, f107, ap, bc, date0), \n",
    "                method='DOP853',\n",
    "                rtol=1e-14,\n",
    "                atol=1e-14)\n",
    "print(\"--- %s seconds --- to propagate\" % (time.time() - start_time))\n",
    "\n",
    "res_x_scipy_nrlmsise00=sol.y[0,:]\n",
    "res_y_scipy_nrlmsise00=sol.y[1,:]\n",
    "res_z_scipy_nrlmsise00=sol.y[2,:]\n",
    "res_vx_scipy_nrlmsise00=sol.y[3,:]\n",
    "res_vy_scipy_nrlmsise00=sol.y[4,:]\n",
    "res_vz_scipy_nrlmsise00=sol.y[5,:]\n"
   ]
  },
  {
   "cell_type": "markdown",
   "metadata": {},
   "source": [
    "### Heyoka + Neutral Density NN surrogate\n",
    "\n",
    "Here we do the same as above, but using `heyoka`'s Taylor method, and the differentiable atmosphere model.\n",
    "\n",
    "First, we define the dynamics:"
   ]
  },
  {
   "cell_type": "code",
   "execution_count": 15,
   "metadata": {},
   "outputs": [],
   "source": [
    "akepler_x=-mu*x*(x**2+y**2+z**2)**(-3/2)\n",
    "akepler_y=-mu*y*(x**2+y**2+z**2)**(-3/2)\n",
    "akepler_z=-mu*z*(x**2+y**2+z**2)**(-3/2)\n",
    "\n",
    "adragx=-1/2*density_nn*vx*hk.sqrt(vx**2+vy**2+vz**2)/bc\n",
    "adragy=-1/2*density_nn*vy*hk.sqrt(vx**2+vy**2+vz**2)/bc\n",
    "adragz=-1/2*density_nn*vz*hk.sqrt(vx**2+vy**2+vz**2)/bc\n",
    "\n",
    "dyn_drag=[(x,vx), (y,vy), (z,vz), (vx,akepler_x+adragx), (vy,akepler_y+adragy), (vz,akepler_z+adragz)]\n",
    "\n",
    "rhs_w_drag = hk.make_cfunc(fn = [it[1] for it in dyn_drag], \n",
    "                    compact_mode=True, \n",
    "                    vars = [x,y,z,vx,vy,vz])\n"
   ]
  },
  {
   "cell_type": "markdown",
   "metadata": {},
   "source": [
    "We first compile the integrator:"
   ]
  },
  {
   "cell_type": "code",
   "execution_count": 16,
   "metadata": {},
   "outputs": [
    {
     "name": "stdout",
     "output_type": "stream",
     "text": [
      "0.4697380065917969 to build the integrator\n"
     ]
    }
   ],
   "source": [
    "start_time = time.time()\n",
    "ta=hk.taylor_adaptive(\n",
    "    dyn_drag,\n",
    "    initial_state,\n",
    "    compact_mode=True,\n",
    "    tol=1e-14,\n",
    ")\n",
    "print(f'{time.time()-start_time} to build the integrator')"
   ]
  },
  {
   "cell_type": "markdown",
   "metadata": {},
   "source": [
    "And then, we can finally perform the integration:"
   ]
  },
  {
   "cell_type": "code",
   "execution_count": 17,
   "metadata": {},
   "outputs": [
    {
     "name": "stdout",
     "output_type": "stream",
     "text": [
      "--- 0.0031218528747558594 seconds --- to propagate using the Taylor scheme\n"
     ]
    }
   ],
   "source": [
    "ta.state[:] = initial_state\n",
    "ta.time=0.\n",
    "# For profiling\n",
    "start_time = time.time()\n",
    "#ta.propagate_until(60.*60*10.)\n",
    "sol_heyoka_nn=ta.propagate_grid(sol.t)\n",
    "print(\"--- %s seconds --- to propagate using the Taylor scheme\" % (time.time() - start_time))\n",
    "res_x_heyoka_nn=sol_heyoka_nn[-1][:,0]\n",
    "res_y_heyoka_nn=sol_heyoka_nn[-1][:,1]\n",
    "res_z_heyoka_nn=sol_heyoka_nn[-1][:,2]\n",
    "res_vx_heyoka_nn=sol_heyoka_nn[-1][:,3]\n",
    "res_vy_heyoka_nn=sol_heyoka_nn[-1][:,4]\n",
    "res_vz_heyoka_nn=sol_heyoka_nn[-1][:,5]"
   ]
  },
  {
   "cell_type": "markdown",
   "metadata": {},
   "source": [
    "*heyoka.py* integration with a differentiable atmosphere is more than 100x times faster than `scipy` with `NRLMSISE-00` !\n",
    "\n",
    "Well, does this number increase if we use a parametric neural network? Let's check:"
   ]
  },
  {
   "cell_type": "markdown",
   "metadata": {},
   "source": [
    "### Heyoka + Parametric Neutral Density NN Surrogate\n",
    "\n",
    "Same as above, but now instead of using constant values for weights and biases, we build a symbolic representation of the neural network and we treat them as heyoka parameters.\n",
    "\n",
    "First the dynamics:"
   ]
  },
  {
   "cell_type": "code",
   "execution_count": 18,
   "metadata": {},
   "outputs": [],
   "source": [
    "akepler_x=-mu*x*(x**2+y**2+z**2)**(-3/2)\n",
    "akepler_y=-mu*y*(x**2+y**2+z**2)**(-3/2)\n",
    "akepler_z=-mu*z*(x**2+y**2+z**2)**(-3/2)\n",
    "\n",
    "adragx=-1/2*density_par*vx*hk.sqrt(vx**2+vy**2+vz**2)/bc\n",
    "adragy=-1/2*density_par*vy*hk.sqrt(vx**2+vy**2+vz**2)/bc\n",
    "adragz=-1/2*density_par*vz*hk.sqrt(vx**2+vy**2+vz**2)/bc\n",
    "\n",
    "dyn_drag_par=[(x,vx), (y,vy), (z,vz), (vx,akepler_x+adragx), (vy,akepler_y+adragy), (vz,akepler_z+adragz)]\n"
   ]
  },
  {
   "cell_type": "markdown",
   "metadata": {},
   "source": [
    "We compile the integrator:"
   ]
  },
  {
   "cell_type": "code",
   "execution_count": 19,
   "metadata": {},
   "outputs": [
    {
     "name": "stdout",
     "output_type": "stream",
     "text": [
      "0.5227298736572266 to build the integrator\n"
     ]
    }
   ],
   "source": [
    "start_time = time.time()\n",
    "ta=hk.taylor_adaptive(\n",
    "    dyn_drag_par,\n",
    "    initial_state,\n",
    "    compact_mode=True,\n",
    "    tol=1e-14,\n",
    ")\n",
    "print(f'{time.time()-start_time} to build the integrator')"
   ]
  },
  {
   "cell_type": "markdown",
   "metadata": {},
   "source": [
    "Slightly longer compilation time. What about integration of the equations of motion?"
   ]
  },
  {
   "cell_type": "code",
   "execution_count": 20,
   "metadata": {},
   "outputs": [
    {
     "name": "stdout",
     "output_type": "stream",
     "text": [
      "--- 0.004960060119628906 seconds --- to propagate using the Taylor scheme\n"
     ]
    }
   ],
   "source": [
    "ta.state[:] = initial_state\n",
    "ta.time=0.\n",
    "ta.pars[:]=flattened_nw\n",
    "# For profiling\n",
    "start_time = time.time()\n",
    "sol_heyoka_nn_par=ta.propagate_grid(sol.t)\n",
    "print(\"--- %s seconds --- to propagate using the Taylor scheme\" % (time.time() - start_time))\n",
    "\n",
    "res_x_heyoka_nn_par=sol_heyoka_nn_par[-1][:,0]\n",
    "res_y_heyoka_nn_par=sol_heyoka_nn_par[-1][:,1]\n",
    "res_z_heyoka_nn_par=sol_heyoka_nn_par[-1][:,2]\n",
    "res_vx_heyoka_nn_par=sol_heyoka_nn_par[-1][:,3]\n",
    "res_vy_heyoka_nn_par=sol_heyoka_nn_par[-1][:,4]\n",
    "res_vz_heyoka_nn_par=sol_heyoka_nn_par[-1][:,5]"
   ]
  },
  {
   "cell_type": "markdown",
   "metadata": {},
   "source": [
    "Slightly faster than before!\n",
    "\n",
    "*heyoka.py* has maintained its more than 100x factor speedup compared to `scipy` and `NRLMSISE-00`"
   ]
  },
  {
   "cell_type": "markdown",
   "metadata": {},
   "source": [
    "All right! But what about the accuracy? Does the trained neural network manage to accurately represent `NRLMSISE-00`, without accumulating too much error during integration?\n",
    "\n",
    "For this, we setup a test where we compare: \n",
    "* scipy with `NRLMSISE-00`\n",
    "* heyoka with NN\n",
    "* heyoka with global fit\n",
    "\n",
    "But first, let's integrate the equations of motion using the global fit:\n"
   ]
  },
  {
   "cell_type": "code",
   "execution_count": 21,
   "metadata": {},
   "outputs": [
    {
     "name": "stdout",
     "output_type": "stream",
     "text": [
      "0.24403095245361328 to build the integrator\n",
      "--- 0.0003769397735595703 seconds --- to propagate using the Taylor scheme\n"
     ]
    }
   ],
   "source": [
    "\n",
    "akepler_x=-mu*x*(x**2+y**2+z**2)**(-3/2)\n",
    "akepler_y=-mu*y*(x**2+y**2+z**2)**(-3/2)\n",
    "akepler_z=-mu*z*(x**2+y**2+z**2)**(-3/2)\n",
    "\n",
    "adragx=-1/2*density_fit_global*vx*hk.sqrt(vx**2+vy**2+vz**2)/bc\n",
    "adragy=-1/2*density_fit_global*vy*hk.sqrt(vx**2+vy**2+vz**2)/bc\n",
    "adragz=-1/2*density_fit_global*vz*hk.sqrt(vx**2+vy**2+vz**2)/bc\n",
    "\n",
    "dyn_drag_fit_global=[(x,vx), (y,vy), (z,vz), (vx,akepler_x+adragx), (vy,akepler_y+adragy), (vz,akepler_z+adragz)]\n",
    "\n",
    "start_time = time.time()\n",
    "ta=hk.taylor_adaptive(\n",
    "    dyn_drag_fit_global,\n",
    "    initial_state,\n",
    "    compact_mode=True,\n",
    "    tol=1e-14,\n",
    ")\n",
    "print(f'{time.time()-start_time} to build the integrator')\n",
    "\n",
    "ta.state[:] = initial_state\n",
    "ta.time=0.\n",
    "# For profiling\n",
    "start_time = time.time()\n",
    "#ta.propagate_until(60.*60*10.)\n",
    "sol_heyoka_fit_global=ta.propagate_grid(sol.t)\n",
    "print(\"--- %s seconds --- to propagate using the Taylor scheme\" % (time.time() - start_time))\n",
    "\n",
    "res_x_heyoka_fit_global=sol_heyoka_fit_global[-1][:,0]\n",
    "res_y_heyoka_fit_global=sol_heyoka_fit_global[-1][:,1]\n",
    "res_z_heyoka_fit_global=sol_heyoka_fit_global[-1][:,2]\n",
    "res_vx_heyoka_fit_global=sol_heyoka_fit_global[-1][:,3]\n",
    "res_vy_heyoka_fit_global=sol_heyoka_fit_global[-1][:,4]\n",
    "res_vz_heyoka_fit_global=sol_heyoka_fit_global[-1][:,5]"
   ]
  },
  {
   "cell_type": "markdown",
   "metadata": {},
   "source": [
    "Wow! This is even more than 1000x faster than `scipy` with `NRLMSISE-00`. But does it maintain an acceptable accuracy? Let's see:"
   ]
  },
  {
   "cell_type": "code",
   "execution_count": 22,
   "metadata": {},
   "outputs": [
    {
     "data": {
      "text/plain": [
       "Text(0.5, 0, 'time [s]')"
      ]
     },
     "execution_count": 22,
     "metadata": {},
     "output_type": "execute_result"
    },
    {
     "data": {
      "image/png": "[encoded data removed]",
      "text/plain": [
       "<Figure size 640x480 with 1 Axes>"
      ]
     },
     "metadata": {},
     "output_type": "display_data"
    }
   ],
   "source": [
    "plt.plot(sol.t,(np.sqrt(res_x_heyoka_nn**2+res_y_heyoka_nn**2+res_z_heyoka_nn**2)-r_earth)*1e-3,label='heyoka+NN')\n",
    "plt.plot(sol.t,(np.sqrt(res_x_scipy_nrlmsise00**2+res_y_scipy_nrlmsise00**2+res_z_scipy_nrlmsise00**2)-r_earth)*1e-3,label='scipy+NRLMSISE-00')\n",
    "plt.plot(sol.t,(np.sqrt(res_x_heyoka_fit_global**2+res_y_heyoka_fit_global**2+res_z_heyoka_fit_global**2)-r_earth)*1e-3,label='global fit')\n",
    "plt.legend()\n",
    "plt.ylabel('h [km]')\n",
    "plt.xlabel('time [s]')"
   ]
  },
  {
   "cell_type": "code",
   "execution_count": 23,
   "metadata": {},
   "outputs": [
    {
     "name": "stdout",
     "output_type": "stream",
     "text": [
      "######### global fit vs NRLMSISE-00 #########\n",
      "Maximum error across the integration period: 222.9247824801064\n",
      "Final error: 199.04158257600102\n",
      "\n",
      "\n",
      "######### NN vs NRLMSISE-00 #########\n",
      "Maximum error across the integration period: 22.077906946663006\n",
      "Final error: 9.452653449045556\n"
     ]
    }
   ],
   "source": [
    "print(\"######### global fit vs NRLMSISE-00 #########\")\n",
    "print(\"Maximum error across the integration period:\",1e3*max(abs((np.sqrt(res_x_heyoka_fit_global**2+res_y_heyoka_fit_global**2+res_z_heyoka_fit_global**2)-r_earth)*1e-3-(np.sqrt(res_x_scipy_nrlmsise00**2+res_y_scipy_nrlmsise00**2+res_z_scipy_nrlmsise00**2)-r_earth)*1e-3)))\n",
    "print(\"Final error:\",1e3*(abs((np.sqrt(res_x_heyoka_fit_global[-1]**2+res_y_heyoka_fit_global[-1]**2+res_z_heyoka_fit_global[-1]**2)-r_earth)*1e-3-(np.sqrt(res_x_scipy_nrlmsise00[-1]**2+res_y_scipy_nrlmsise00[-1]**2+res_z_scipy_nrlmsise00[-1]**2)-r_earth)*1e-3)))\n",
    "\n",
    "print(\"\\n\\n######### NN vs NRLMSISE-00 #########\")\n",
    "print(\"Maximum error across the integration period:\",1e3*max(abs((np.sqrt(res_x_heyoka_nn**2+res_y_heyoka_nn**2+res_z_heyoka_nn**2)-r_earth)*1e-3-(np.sqrt(res_x_scipy_nrlmsise00**2+res_y_scipy_nrlmsise00**2+res_z_scipy_nrlmsise00**2)-r_earth)*1e-3)))\n",
    "print(\"Final error:\",1e3*(abs((np.sqrt(res_x_heyoka_nn[-1]**2+res_y_heyoka_nn[-1]**2+res_z_heyoka_nn[-1]**2)-r_earth)*1e-3-(np.sqrt(res_x_scipy_nrlmsise00[-1]**2+res_y_scipy_nrlmsise00[-1]**2+res_z_scipy_nrlmsise00[-1]**2)-r_earth)*1e-3)))\n",
    "\n"
   ]
  },
  {
   "cell_type": "markdown",
   "metadata": {},
   "source": [
    "As we notice, the differentiable atmosphere manages to capture very well the underlying behavior of NRLMSISE-00, maintaining (for 10 hours integrations) errors always below 23 meters, with a final error of 9.45 meters, in the altitude of the satellite at an initial altitude of 350km (where drag is one of the main perturbations).\n",
    "\n",
    "Conversely, a global fit does not manage to maintain the same accuracy, reaching errors as high as 223 meters, and a final error of 200 meters."
   ]
  }
 ],
 "metadata": {
  "kernelspec": {
   "display_name": "diff_drag_py38",
   "language": "python",
   "name": "python3"
  },
  "language_info": {
   "codemirror_mode": {
    "name": "ipython",
    "version": 3
   },
   "file_extension": ".py",
   "mimetype": "text/x-python",
   "name": "python",
   "nbconvert_exporter": "python",
   "pygments_lexer": "ipython3",
   "version": "3.8.18"
  },
  "orig_nbformat": 4
 },
 "nbformat": 4,
 "nbformat_minor": 2
}
