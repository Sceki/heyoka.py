{
 "cells": [
  {
   "cell_type": "markdown",
   "id": "894ad88d",
   "metadata": {},
   "source": [
    "# ODEs and neural networks\n",
    "\n",
    "In a number of cases the right hand side of a system of ordinary differential equations contain an artificial neural network (ANN). This is the case, for example, in controlled systems where the state-feedback is provided via a neural network, or \n",
    "in those cases where the ANN has been trained to describe nonlinear interactions or external disturbances, but also in more advanced scenarios where the full system of ODEs is a ANN trained to reproduce some observed or desired dynamics. A particularly significant case, in the context of Taylor integration, is when the ANN is used to represent, via a differentiable expression, that of an ANN, some otherwise discontinuous or non differentiable term.\n",
    "\n",
    "In all cases we must solve a system in the form:\n",
    "\n",
    "$$\n",
    "\\dot {\\mathbf x} = \\mathbf f(\\mathbf x, \\mathcal N_\\theta(\\mathbf x))\n",
    "$$\n",
    "\n",
    "where we have denoted with $\\theta$ the network model parameters. \n",
    "\n",
    "In order to facilitate to instantiate such a system, *heyoka.py* implements, in its module *model*, a Feed Forward Neural Network factory called ``ffnn()``. The Neural Network inputs $\\mathbf {in}$, with dimensionality $n_{in}$ are fed into a succession of $N \\ge 0 $ neural layers defined by:\n",
    "\n",
    "$$\n",
    "\\mathbf h_i = F_i(\\mathbf W_i\\mathbf h_{i-1} + \\mathbf b_i), \\quad i = 1 .. N\n",
    "$$\n",
    "\n",
    "to derive the Neural Network outputs $\\mathbf {out}$ with dimensionality $n_{out}$:\n",
    "\n",
    "$$\n",
    "\\mathbf {out} = F_{N+1}(\\mathbf W_{N+1}\\mathbf h_{N} + \\mathbf b_{N+1})\n",
    "$$\n",
    "\n",
    "where $\\mathbf h_0 = \\mathbf {in}$ and $F_i$ define the network non-linearities, or activation functions.\n",
    "\n",
    "We here show how to use this factory in the context of inference as well as in definition of the dynamics of an adaptive Taylor integrator."
   ]
  },
  {
   "cell_type": "code",
   "execution_count": 1,
   "id": "7030234e",
   "metadata": {},
   "outputs": [],
   "source": [
    "# The usual main imports\n",
    "import heyoka as hy\n",
    "import numpy as np\n",
    "\n",
    "%matplotlib inline\n",
    "import matplotlib.pyplot as plt"
   ]
  },
  {
   "cell_type": "markdown",
   "id": "653cb5f6",
   "metadata": {},
   "source": [
    "Let us start with something simple and small, without hidden layers and with one only input and output, to illustrate the basics of such a factory."
   ]
  },
  {
   "cell_type": "code",
   "execution_count": 2,
   "id": "2c432fbb",
   "metadata": {},
   "outputs": [
    {
     "name": "stdout",
     "output_type": "stream",
     "text": [
      "[(p1 + (p0 * x))]\n"
     ]
    }
   ],
   "source": [
    "# We create the symbols for the network inputs (only one in this frst simple case)\n",
    "x, = hy.make_vars(\"x\")\n",
    "\n",
    "# We define as nonlinearity a simple linear layer\n",
    "linear = lambda inp: inp\n",
    "\n",
    "# We call the factory to construct the FFNN:\n",
    "ffnn = hy.model.ffnn(inputs = [x], nn_hidden = [], n_out = 1, activations = [linear])\n",
    "print(ffnn)\n"
   ]
  },
  {
   "cell_type": "markdown",
   "id": "da72871e",
   "metadata": {},
   "source": [
    "The factory ``ffnn()`` returns a list of ``heyoka.expression`` representing each of the output neurons, in this case only one. \n",
    "The same syntax can be used to instantiate a more complex case:"
   ]
  },
  {
   "cell_type": "code",
   "execution_count": 3,
   "id": "f05dab82",
   "metadata": {},
   "outputs": [
    {
     "name": "stdout",
     "output_type": "stream",
     "text": [
      "[(p160 + (p64 * tanh((p128 + (p0 * x) + (p1 * y)))) + (p65 * tanh((p129 + (p2 * x) + (p3 * y)))) + (p66 * tanh((p130 + (p4 * x) + (p5 * y)))) + (p67 * tanh((p131 + (p6 * x) + (p7 * y)))) + (p68 * tanh((p132 + (p8 * x) + (p9 * y)))) + (p69 * tanh((p133 + (p10 * x) + (p11 * y)))) + (p70 * tanh((p134 + (p12 * x) + (p13 * y)))) + (p71 * tanh((p135 + (p14 * x) + (p15 * y)))) + (p72 * tanh((p136 + (p16 * x) + (p17 * y)))) + (p73 * tanh((p137 + (p18 * x) + (p19 * y)))) + (p74 * tanh((p138 + (p20 * x) + (p21 * y)))) + (p75 * tanh((p139 + (p22 * x) + (p23 * y)))) + (p76 * tanh((p140 + (p24 * x) + (p25 * y)))) + (p77 * tanh((p141 + (p26 * x) + (p27 * y)))) + (p78 * tanh((p142 + (p28 * x) + (p29 * y)))) + (p79 * tanh((p143 + (p30 * x) + (p31 * y)))) + (p80 * tanh((p144 + (p32 * x) + (p33 * y)))) + (p81 * tanh((p145 + (p34 * x) + (p35 * y)))) + (p82 * tanh((p146 + (p36 * x) + (p37 * y)))) + (p83 * tanh((p147 + (p38 * x) + (p39 * y)))) + (p84 * tanh((p148 + (p40 * x) + (p41 * y)))) + (p85 * tanh((p149 + ..., (p161 + (p96 * tanh((p128 + (p0 * x) + (p1 * y)))) + (p97 * tanh((p129 + (p2 * x) + (p3 * y)))) + (p98 * tanh((p130 + (p4 * x) + (p5 * y)))) + (p99 * tanh((p131 + (p6 * x) + (p7 * y)))) + (p100 * tanh((p132 + (p8 * x) + (p9 * y)))) + (p101 * tanh((p133 + (p10 * x) + (p11 * y)))) + (p102 * tanh((p134 + (p12 * x) + (p13 * y)))) + (p103 * tanh((p135 + (p14 * x) + (p15 * y)))) + (p104 * tanh((p136 + (p16 * x) + (p17 * y)))) + (p105 * tanh((p137 + (p18 * x) + (p19 * y)))) + (p106 * tanh((p138 + (p20 * x) + (p21 * y)))) + (p107 * tanh((p139 + (p22 * x) + (p23 * y)))) + (p108 * tanh((p140 + (p24 * x) + (p25 * y)))) + (p109 * tanh((p141 + (p26 * x) + (p27 * y)))) + (p110 * tanh((p142 + (p28 * x) + (p29 * y)))) + (p111 * tanh((p143 + (p30 * x) + (p31 * y)))) + (p112 * tanh((p144 + (p32 * x) + (p33 * y)))) + (p113 * tanh((p145 + (p34 * x) + (p35 * y)))) + (p114 * tanh((p146 + (p36 * x) + (p37 * y)))) + (p115 * tanh((p147 + (p38 * x) + (p39 * y)))) + (p116 * tanh((p148 + (p40 * x) + (p41 * y)))) + ...]\n"
     ]
    }
   ],
   "source": [
    "x, y = hy.make_vars(\"x\", \"y\")\n",
    "ffnn = hy.model.ffnn(inputs = [x, y], nn_hidden = [32], n_out = 2, activations = [hy.tanh, linear])\n",
    "print(ffnn)"
   ]
  },
  {
   "cell_type": "markdown",
   "id": "ecef8f19",
   "metadata": {},
   "source": [
    "The resulting screen output of the built expression is much longer and eventually it actually makes little sense to print it.\n",
    "\n",
    "> **NOTE**: The user must take care of consistency of the dimensions of the various kwargs passed into the factory, else an error will be raised. For example, the dimension of the list containing the activation functions must be exactly one more than the dimension of the *nn_hidden* and so on.\n",
    "\n",
    "All the network parameters, i.e. the weights and biases, are, by default, defined as ``par[j]`` in the *heyoka* expression system. This flattens the weight matrices $\\mathbf W_i, i=1 .. (N-1)$ and then the biases $\\mathbf b_i, i=1 .. (N-1)$ into one non-dimensional vector. In this case we have that $\\mathbf W_1$ is a (2,32) matrix, $\\mathbf W_2$ is a (32,2) matrix, $\\mathbf b_1$ is a (32,1) vector and $\\mathbf b_2$ a (2,1) vector. A total of 2x32+32x2+32+2=162 parameters are then needed.\n",
    "\n",
    "We now assume the matrices and biases are available (for example from some third party code that trained the model) and for the sake of the tutorial we create them here randomly. "
   ]
  },
  {
   "cell_type": "code",
   "execution_count": 4,
   "id": "8bc1f95d",
   "metadata": {},
   "outputs": [],
   "source": [
    "# To simulate that the network parameters are coming from some third party tool that performed the network training, \n",
    "# we here generate them as random numpy arrays.\n",
    "W1 = np.random.random((2,32))\n",
    "W2 = np.random.random((32,2))\n",
    "b1 =  np.random.random((32,1))\n",
    "b2 =  np.random.random((2,1))"
   ]
  },
  {
   "cell_type": "markdown",
   "id": "d71b081f",
   "metadata": {},
   "source": [
    "And we flatten them into the *heyoka* format (i.e. first weights then biases):"
   ]
  },
  {
   "cell_type": "code",
   "execution_count": 5,
   "id": "dd387601",
   "metadata": {},
   "outputs": [],
   "source": [
    "flattened_nw = np.concatenate((W1.flatten(), W2.flatten(), b1.flatten(), b2.flatten()))"
   ]
  },
  {
   "cell_type": "markdown",
   "id": "a82dd430",
   "metadata": {},
   "source": [
    "## Inference\n",
    "In order to use the ffnn to make inferences, we must compile it into a cfunction. Thats easy though, specially if you have followed the [compiled functions](<./compiled_functions.ipynb>) tutorial:"
   ]
  },
  {
   "cell_type": "code",
   "execution_count": 6,
   "id": "39bbf769",
   "metadata": {},
   "outputs": [
    {
     "name": "stdout",
     "output_type": "stream",
     "text": [
      "[2023-11-04 00:07:25.120] [heyoka] [info] heyoka logger initialised\n",
      "Variables: [x, y]\n",
      "Output #0: (p160 + (p64 * tanh((p128 + (p0 * x) + (p1 * y)))) + (p65 * tanh((p129 + (p2 * x) + (p3 * y)))) + (p66 * tanh((p130 + (p4 * x) + (p5 * y)))) + (p67 * tanh((p131 + (p6 * x) + (p7 * y)))) + (p68 * tanh((p132 + (p8 * x) + (p9 * y)))) + (p69 * tanh((p133 + (p10 * x) + (p11 * y)))) + (p70 * tanh((p134 + (p12 * x) + (p13 * y)))) + (p71 * tanh((p135 + (p14 * x) + (p15 * y)))) + (p72 * tanh((p136 + (p16 * x) + (p17 * y)))) + (p73 * tanh((p137 + (p18 * x) + (p19 * y)))) + (p74 * tanh((p138 + (p20 * x) + (p21 * y)))) + (p75 * tanh((p139 + (p22 * x) + (p23 * y)))) + (p76 * tanh((p140 + (p24 * x) + (p25 * y)))) + (p77 * tanh((p141 + (p26 * x) + (p27 * y)))) + (p78 * tanh((p142 + (p28 * x) + (p29 * y)))) + (p79 * tanh((p143 + (p30 * x) + (p31 * y)))) + (p80 * tanh((p144 + (p32 * x) + (p33 * y)))) + (p81 * tanh((p145 + (p34 * x) + (p35 * y)))) + (p82 * tanh((p146 + (p36 * x) + (p37 * y)))) + (p83 * tanh((p147 + (p38 * x) + (p39 * y)))) + (p84 * tanh((p148 + (p40 * x) + (p41 * y)))) + (p85 * tanh((p149 + ...\n",
      "Output #1: (p161 + (p96 * tanh((p128 + (p0 * x) + (p1 * y)))) + (p97 * tanh((p129 + (p2 * x) + (p3 * y)))) + (p98 * tanh((p130 + (p4 * x) + (p5 * y)))) + (p99 * tanh((p131 + (p6 * x) + (p7 * y)))) + (p100 * tanh((p132 + (p8 * x) + (p9 * y)))) + (p101 * tanh((p133 + (p10 * x) + (p11 * y)))) + (p102 * tanh((p134 + (p12 * x) + (p13 * y)))) + (p103 * tanh((p135 + (p14 * x) + (p15 * y)))) + (p104 * tanh((p136 + (p16 * x) + (p17 * y)))) + (p105 * tanh((p137 + (p18 * x) + (p19 * y)))) + (p106 * tanh((p138 + (p20 * x) + (p21 * y)))) + (p107 * tanh((p139 + (p22 * x) + (p23 * y)))) + (p108 * tanh((p140 + (p24 * x) + (p25 * y)))) + (p109 * tanh((p141 + (p26 * x) + (p27 * y)))) + (p110 * tanh((p142 + (p28 * x) + (p29 * y)))) + (p111 * tanh((p143 + (p30 * x) + (p31 * y)))) + (p112 * tanh((p144 + (p32 * x) + (p33 * y)))) + (p113 * tanh((p145 + (p34 * x) + (p35 * y)))) + (p114 * tanh((p146 + (p36 * x) + (p37 * y)))) + (p115 * tanh((p147 + (p38 * x) + (p39 * y)))) + (p116 * tanh((p148 + (p40 * x) + (p41 * y)))) + ...\n",
      "\n"
     ]
    }
   ],
   "source": [
    "cf = hy.make_cfunc(ffnn)\n",
    "print(cf)"
   ]
  },
  {
   "cell_type": "markdown",
   "id": "2f2f0152",
   "metadata": {},
   "source": [
    "Let us now make an inference of the point [1.2, -2.2]"
   ]
  },
  {
   "cell_type": "code",
   "execution_count": 7,
   "id": "f5151508",
   "metadata": {},
   "outputs": [
    {
     "data": {
      "text/plain": [
       "array([3.77327396, 2.35923845])"
      ]
     },
     "execution_count": 7,
     "metadata": {},
     "output_type": "execute_result"
    }
   ],
   "source": [
    "cf([1.2,-2.2], pars = flattened_nw)"
   ]
  },
  {
   "cell_type": "markdown",
   "id": "8f07040d",
   "metadata": {},
   "source": [
    "The backdraw here is that at each inference the actual values of all the parameters must be copied into the expression upon evaluatio, which may result in slower performances. Hardcoding the values into the FFNN is surely a better option, which can be achieved using the optional kwarg *nn_wb* (neural network weights and biases) of the factory ``ffnn()``:"
   ]
  },
  {
   "cell_type": "code",
   "execution_count": 8,
   "id": "72cddfca",
   "metadata": {},
   "outputs": [
    {
     "name": "stdout",
     "output_type": "stream",
     "text": [
      "[(0.20775307452917735 + (0.0010130547168091253 * tanh((0.81871568375331039 + (0.40179542424902293 * y) + (0.90220395133840459 * x)))) + (0.014374383937949320 * tanh((0.45888687488955759 + (0.26945635036856630 * x) + (0.77331407562325083 * y)))) + (0.041118449009451941 * tanh((0.036971172706964373 + (0.46259220410875757 * y) + (0.56969805323760492 * x)))) + (0.13239743898202583 * tanh((0.36677374337928526 + (0.38923986810536348 * x) + (0.82881886260142812 * y)))) + (0.15751196911336651 * tanh((0.89274223830374810 + (0.26764702764559190 * y) + (0.81026214395929874 * x)))) + (0.19270808338748058 * tanh((0.047426267194027316 + (0.38053793959559201 * y) + (0.66495719156913613 * x)))) + (0.19968171931121692 * tanh((0.36614328188619127 + (0.28254528285945801 * x) + (0.62936587828737456 * y)))) + (0.23220304720588703 * tanh((0.80778538458093130 + (0.21220030685290392 * y) + (0.81750166774793009 * x)))) + (0.32950717222042047 * tanh((0.84596251022828461 + (0.35557073653278704 * x) + (0.42606732826489258 * ..., (0.20216485766424674 + (0.037493462383073828 * tanh((0.047426267194027316 + (0.38053793959559201 * y) + (0.66495719156913613 * x)))) + (0.042502743545754784 * tanh((0.81871568375331039 + (0.40179542424902293 * y) + (0.90220395133840459 * x)))) + (0.12292736983449959 * tanh((0.16565469489578410 + (0.24099032515742935 * y) + (0.47316682464203563 * x)))) + (0.13418129302109327 * tanh((0.72862000499379698 + (0.21113017843427373 * y) + (0.67962208011069369 * x)))) + (0.15708951313767805 * tanh((0.036971172706964373 + (0.46259220410875757 * y) + (0.56969805323760492 * x)))) + (0.16658700196868104 * tanh((0.16262105174155528 + (0.60446121422093835 * x) + (0.91225564208622012 * y)))) + (0.17045607015129449 * tanh((0.50010671148484920 + (0.32268389506137529 * x) + (0.38732169548978823 * y)))) + (0.28361442751970711 * tanh((0.99346868779267727 + (0.064413013094519189 * x) + (0.49066656200471581 * y)))) + (0.36149637566686998 * tanh((0.91269339395688565 + (0.32785669529184969 * y) + (0.33404026079032878 * ...]\n"
     ]
    }
   ],
   "source": [
    "ffnn = hy.model.ffnn(inputs = [x, y], nn_hidden = [32], n_out = 2, activations = [hy.tanh, linear], nn_wb = flattened_nw)\n",
    "print(ffnn)"
   ]
  },
  {
   "cell_type": "markdown",
   "id": "e280e7a4",
   "metadata": {},
   "source": [
    "We can now recompile the function:"
   ]
  },
  {
   "cell_type": "code",
   "execution_count": 9,
   "id": "a698b57e",
   "metadata": {},
   "outputs": [
    {
     "name": "stdout",
     "output_type": "stream",
     "text": [
      "Variables: [x, y]\n",
      "Output #0: (0.20775307452917735 + (0.0010130547168091253 * tanh((0.81871568375331039 + (0.40179542424902293 * y) + (0.90220395133840459 * x)))) + (0.014374383937949320 * tanh((0.45888687488955759 + (0.26945635036856630 * x) + (0.77331407562325083 * y)))) + (0.041118449009451941 * tanh((0.036971172706964373 + (0.46259220410875757 * y) + (0.56969805323760492 * x)))) + (0.13239743898202583 * tanh((0.36677374337928526 + (0.38923986810536348 * x) + (0.82881886260142812 * y)))) + (0.15751196911336651 * tanh((0.89274223830374810 + (0.26764702764559190 * y) + (0.81026214395929874 * x)))) + (0.19270808338748058 * tanh((0.047426267194027316 + (0.38053793959559201 * y) + (0.66495719156913613 * x)))) + (0.19968171931121692 * tanh((0.36614328188619127 + (0.28254528285945801 * x) + (0.62936587828737456 * y)))) + (0.23220304720588703 * tanh((0.80778538458093130 + (0.21220030685290392 * y) + (0.81750166774793009 * x)))) + (0.32950717222042047 * tanh((0.84596251022828461 + (0.35557073653278704 * x) + (0.42606732826489258 * ...\n",
      "Output #1: (0.20216485766424674 + (0.037493462383073828 * tanh((0.047426267194027316 + (0.38053793959559201 * y) + (0.66495719156913613 * x)))) + (0.042502743545754784 * tanh((0.81871568375331039 + (0.40179542424902293 * y) + (0.90220395133840459 * x)))) + (0.12292736983449959 * tanh((0.16565469489578410 + (0.24099032515742935 * y) + (0.47316682464203563 * x)))) + (0.13418129302109327 * tanh((0.72862000499379698 + (0.21113017843427373 * y) + (0.67962208011069369 * x)))) + (0.15708951313767805 * tanh((0.036971172706964373 + (0.46259220410875757 * y) + (0.56969805323760492 * x)))) + (0.16658700196868104 * tanh((0.16262105174155528 + (0.60446121422093835 * x) + (0.91225564208622012 * y)))) + (0.17045607015129449 * tanh((0.50010671148484920 + (0.32268389506137529 * x) + (0.38732169548978823 * y)))) + (0.28361442751970711 * tanh((0.99346868779267727 + (0.064413013094519189 * x) + (0.49066656200471581 * y)))) + (0.36149637566686998 * tanh((0.91269339395688565 + (0.32785669529184969 * y) + (0.33404026079032878 * ...\n",
      "\n"
     ]
    }
   ],
   "source": [
    "cf = hy.make_cfunc(ffnn)\n",
    "print(cf)"
   ]
  },
  {
   "cell_type": "markdown",
   "id": "4e82a27a",
   "metadata": {},
   "source": [
    "And compute the inference much more efficiently as:"
   ]
  },
  {
   "cell_type": "code",
   "execution_count": 10,
   "id": "c74e1b55",
   "metadata": {},
   "outputs": [
    {
     "data": {
      "text/plain": [
       "array([3.77327396, 2.35923845])"
      ]
     },
     "execution_count": 10,
     "metadata": {},
     "output_type": "execute_result"
    }
   ],
   "source": [
    "cf([1.2,-2.2])"
   ]
  },
  {
   "cell_type": "markdown",
   "id": "427a8115",
   "metadata": {},
   "source": [
    "Using the batch evaluation results in even faster code:\n"
   ]
  },
  {
   "cell_type": "code",
   "execution_count": 11,
   "id": "a26d5325",
   "metadata": {},
   "outputs": [
    {
     "data": {
      "text/plain": [
       "array([[ 3.77327396,  2.35923845],\n",
       "       [-7.81403945, -8.2413545 ],\n",
       "       [13.2785288 , 13.65913993]])"
      ]
     },
     "execution_count": 11,
     "metadata": {},
     "output_type": "execute_result"
    }
   ],
   "source": [
    "cf([[1.2,-2.2,1.0],[-2.2, -0.1,0.1]]).transpose()"
   ]
  },
  {
   "cell_type": "markdown",
   "id": "f3804ab9",
   "metadata": {},
   "source": [
    "## Use in numerical integration\n",
    "Making inferences of ANN in *heyoka* can surely be useful for debugging and other purposes, but it is likely not the main reason we use *heyoka* in the first place, nor the main objective of this tutorial. Instantiating and integrating a system in the form: \n",
    "\n",
    "$$\n",
    "\\dot {\\mathbf x} = \\mathbf f(\\mathbf x, \\mathcal N_\\theta(\\mathbf x))\n",
    "$$\n",
    "\n",
    "is!\n",
    "\n",
    "Let us then define a simple harmonic oscillator, perturbed by a random nonlinear term defined via an Artificial Neural Network:\n",
    "\n",
    "$$\n",
    "\\begin{array}{l}\n",
    "\\dot x = v_x \\\\\n",
    "\\dot y = v_y \\\\\n",
    "\\dot v_x = - k_x x + \\alpha \\mathcal N_x \\\\\n",
    "\\dot v_y = - k_y y + \\alpha \\mathcal N_y \\\\\n",
    "\\end{array}\n",
    "$$\n",
    "\n",
    "Let us start defining the neural network. "
   ]
  },
  {
   "cell_type": "code",
   "execution_count": 12,
   "id": "9191ad82",
   "metadata": {},
   "outputs": [],
   "source": [
    "x, y, vx, vy = hy.make_vars(\"x\",\"y\",\"vx\",\"vy\")"
   ]
  },
  {
   "cell_type": "code",
   "execution_count": 13,
   "id": "2baba80a",
   "metadata": {},
   "outputs": [],
   "source": [
    "# Network parameters (play around)\n",
    "nn_hidden = [10, 10]\n",
    "activations = [hy.tanh, hy.tanh, hy.tanh] # the output will be in [-1,1]\n",
    "n_inputs = 4\n",
    "n_outputs = 2\n",
    "nn_layers = [n_inputs] + nn_hidden + [n_outputs]\n",
    "\n",
    "# Weight matrices\n",
    "Ws = []\n",
    "for i in range(0, len(activations)):\n",
    "    Ws.append(np.random.random((nn_layers[i], nn_layers[i+1])))\n",
    "# Bias vectors\n",
    "bs = []\n",
    "for i in range(0, len(activations)):\n",
    "    bs.append(np.random.random((nn_layers[i+1],1)))\n",
    "# Flatten everything\n",
    "flattened_nw =  np.concatenate([it.flatten() for it in Ws] + [it.flatten() for it in bs])\n",
    "\n",
    "# Calling the ffnn factory\n",
    "ffnn = hy.model.ffnn(inputs = [x, y, vx, vy], nn_hidden = nn_hidden, n_out = 2, activations = activations, nn_wb = flattened_nw)\n"
   ]
  },
  {
   "cell_type": "markdown",
   "id": "a9df3f9b",
   "metadata": {},
   "source": [
    "We write the dynamics, introducing as *heyoka* parameters $k_x, k_y$ and the value $\\alpha$ which will determine the strength of the perturbation."
   ]
  },
  {
   "cell_type": "code",
   "execution_count": 14,
   "id": "c6fbde30",
   "metadata": {},
   "outputs": [],
   "source": [
    "x, y, vx, vy = hy.make_vars(\"x\", \"y\", \"vx\", \"vy\")\n",
    "dxdt = vx\n",
    "dydt = vy\n",
    "dvxdt = -hy.par[0] * x + hy.par[2] * ffnn[0]\n",
    "dvydt = -hy.par[1] * y + hy.par[2] * ffnn[1]\n"
   ]
  },
  {
   "cell_type": "markdown",
   "id": "fa468fb9",
   "metadata": {},
   "source": [
    "and package it into a ``taylor_adaptive`` integrator which will compile the Taylor integrator for us and create the object we will use to perform numerics:"
   ]
  },
  {
   "cell_type": "code",
   "execution_count": 15,
   "id": "284e1fec",
   "metadata": {},
   "outputs": [],
   "source": [
    "ta = hy.taylor_adaptive(\n",
    "    # The ODEs.\n",
    "    [(x, dxdt), (y, dydt), \n",
    "     (vx, dvxdt), (vy, dvydt)],\n",
    "    # The initial conditions.\n",
    "    [0., 1., 1., 0.],\n",
    "    tol = 1e-16,\n",
    "    compact_mode = True\n",
    ")"
   ]
  },
  {
   "cell_type": "markdown",
   "id": "b71cc4ec",
   "metadata": {},
   "source": [
    "We may now call the integrator. Let us start with the unperturbed case:\n"
   ]
  },
  {
   "cell_type": "code",
   "execution_count": 16,
   "id": "41ed14ea",
   "metadata": {},
   "outputs": [],
   "source": [
    "ta.state[:] = [0., 1., 1., 0.]\n",
    "ta.time = 0\n",
    "ta.pars[:] = [1,1,0.0]\n",
    "tgrid = np.linspace(0,40,1000)\n",
    "sol = ta.propagate_grid(tgrid)"
   ]
  },
  {
   "cell_type": "markdown",
   "id": "0fc74209",
   "metadata": {},
   "source": [
    "ANd then assume the FFNN to perturb the dynamics with a relative strength of 10%:"
   ]
  },
  {
   "cell_type": "code",
   "execution_count": 17,
   "id": "b8d9f926",
   "metadata": {},
   "outputs": [],
   "source": [
    "ta.state[:] = [0., 1., 1., 0.]\n",
    "ta.time = 0\n",
    "ta.pars[:] = [1,1,0.1]\n",
    "tgrid = np.linspace(0,40,1000)\n",
    "sol_pert = ta.propagate_grid(tgrid)"
   ]
  },
  {
   "cell_type": "code",
   "execution_count": 18,
   "id": "05aa2307",
   "metadata": {},
   "outputs": [
    {
     "data": {
      "text/plain": [
       "[<matplotlib.lines.Line2D at 0x7f2fc4045cd0>]"
      ]
     },
     "execution_count": 18,
     "metadata": {},
     "output_type": "execute_result"
    },
    {
     "data": {
      "image/png": "[encoded data removed]",
      "text/plain": [
       "<Figure size 640x480 with 1 Axes>"
      ]
     },
     "metadata": {},
     "output_type": "display_data"
    }
   ],
   "source": [
    "plt.plot(sol[4][:,0], sol[4][:,1])\n",
    "plt.plot(sol_pert[4][:,0], sol_pert[4][:,1], 'r')"
   ]
  },
  {
   "cell_type": "markdown",
   "id": "801cc87e",
   "metadata": {},
   "source": [
    "... and thats all I wanted to tell you!"
   ]
  }
 ],
 "metadata": {
  "kernelspec": {
   "display_name": "Python 3 (ipykernel)",
   "language": "python",
   "name": "python3"
  },
  "language_info": {
   "codemirror_mode": {
    "name": "ipython",
    "version": 3
   },
   "file_extension": ".py",
   "mimetype": "text/x-python",
   "name": "python",
   "nbconvert_exporter": "python",
   "pygments_lexer": "ipython3",
   "version": "3.8.18"
  }
 },
 "nbformat": 4,
 "nbformat_minor": 5
}
