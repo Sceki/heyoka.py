{
 "cells": [
  {
   "cell_type": "markdown",
   "id": "0819c096-17e5-4fb3-8056-7f2a77974ca3",
   "metadata": {},
   "source": [
    "(ex_system_internals)=\n",
    "\n",
    "# The expression system in detail\n",
    "\n",
    "In this tutorial, we will delve into the implementation details of heyoka.py's expression system. Our main goal is to explain certain pitfalls that can occur in innocent-looking code and which can have disastrous consequence on performance, and to teach you, dear user, how to avoid these pitfalls.\n",
    "\n",
    "## Reference semantics and shared (sub)expressions\n",
    "\n",
    "The first and most important thing to understand about heyoka.py's expressions is that they implement so-called *reference semantics*. That is, an expression is essentially a handle to an underlying object, and copying the expression will not perform an actual copy, rather it will return a new reference to the same underlying object.\n",
    "\n",
    "Before you ask \"isn't this how all Python objects work?\", let me immediately point out that heyoka.py's expressions are exposed from C++ and that reference semantics is implemented all the way down into the C++ layer. As a concrete example of what this means, consider the following simple expression:"
   ]
  },
  {
   "cell_type": "code",
   "execution_count": 2,
   "id": "f4825524-a60e-4180-b16f-85f20678ddb5",
   "metadata": {},
   "outputs": [],
   "source": [
    "import heyoka as hy\n",
    "\n",
    "# Create a couple of variables.\n",
    "x, y = hy.make_vars(\"x\", \"y\")\n",
    "\n",
    "# Create a simple expression.\n",
    "ex = x + y"
   ]
  },
  {
   "cell_type": "markdown",
   "id": "bfdb9c01-e36d-43a9-bf0f-6316f317b415",
   "metadata": {},
   "source": [
    "If we attempt to copy ``ex`` via the standard {func}`~copy.copy()` function, we will get nominally a new Python object, as we can see by querying the {func}`id()`:"
   ]
  },
  {
   "cell_type": "code",
   "execution_count": 6,
   "id": "7be5a6fe-612b-45a4-b037-c5a87023d1a1",
   "metadata": {},
   "outputs": [
    {
     "name": "stdout",
     "output_type": "stream",
     "text": [
      "Original id: 139928559827312\n",
      "Copy id    : 139928752231008\n"
     ]
    }
   ],
   "source": [
    "from copy import copy\n",
    "\n",
    "# Make a \"copy\" of ex.\n",
    "ex_copy = copy(ex)\n",
    "\n",
    "# Print the ids.\n",
    "print(f'Original id: {id(ex)}')\n",
    "print(f'Copy id    : {id(ex_copy)}')"
   ]
  },
  {
   "cell_type": "markdown",
   "id": "6f202955-a4fd-4bc8-9baf-e53f2abeba81",
   "metadata": {},
   "source": [
    "However, both ``ex`` and ``ex_copy`` are in reality pointing to the **same** underlying C++ object which is shared among the two Python objects.\n",
    "\n",
    "We can use ``ex`` as a building block to create more complicated expressions, e.g.:"
   ]
  },
  {
   "cell_type": "code",
   "execution_count": 8,
   "id": "ea7d364f-7c3e-400c-8d74-81fbd508a9f0",
   "metadata": {},
   "outputs": [
    {
     "data": {
      "text/plain": [
       "(cos((x + y)) + sin((x + y)))"
      ]
     },
     "execution_count": 8,
     "metadata": {},
     "output_type": "execute_result"
    }
   ],
   "source": [
    "a = hy.sin(ex) + hy.cos(ex)\n",
    "a"
   ]
  },
  {
   "cell_type": "markdown",
   "id": "02352463-a436-40aa-a126-4aae27e4df71",
   "metadata": {},
   "source": [
    "Because of the use of reference semantics, this expression will not contain two separate copies of $x + y$. Rather, it will contain two *references* to the original expression ``ex``.\n",
    "\n",
    "If, on the other hand, we do **not** re-use ``ex`` and write instead"
   ]
  },
  {
   "cell_type": "code",
   "execution_count": 9,
   "id": "209c456c-da66-4af5-b1fa-71a26528745d",
   "metadata": {},
   "outputs": [
    {
     "data": {
      "text/plain": [
       "(cos((x + y)) + sin((x + y)))"
      ]
     },
     "execution_count": 9,
     "metadata": {},
     "output_type": "execute_result"
    }
   ],
   "source": [
    "b = hy.sin(x + y) + hy.cos(x + y)\n",
    "b"
   ]
  },
  {
   "cell_type": "markdown",
   "id": "93c378d3-4235-4f88-9849-d8dc9f4b7a1a",
   "metadata": {},
   "source": [
    "we get an expression ``b`` which is mathematically equivalent to ``a`` but which contains two separate copies of $x + y$, rather than two references to ``ex``. This leads to a couple of very important consequences.\n",
    "\n",
    "First of all, the memory footprint of ``b`` will be larger than ``a``'s because it is (wastefully) storing two copies of the same subexpression $x + y$ (rather than storing two references to the same underlying expression).\n",
    "\n",
    "Secondly, heyoka.py's symbolic manipulation routines are coded to keep track of shared subexpressions with the goal of avoiding redundant computations. For instance, let us say we want to replace $x$ with $x^2 - 1$ via\n",
    "the {func}`~heyoka.subs()` function:"
   ]
  },
  {
   "cell_type": "code",
   "execution_count": 12,
   "id": "af956e09-f9a5-455f-b410-507de6297fd1",
   "metadata": {},
   "outputs": [
    {
     "data": {
      "text/plain": [
       "(cos(((x**2.0000000000000000 - 1.0000000000000000) + y)) + sin(((x**2.0000000000000000 - 1.0000000000000000) + y)))"
      ]
     },
     "execution_count": 12,
     "metadata": {},
     "output_type": "execute_result"
    }
   ],
   "source": [
    "hy.subs(a, {x: x**2 - 1.})"
   ]
  },
  {
   "cell_type": "markdown",
   "id": "12a2db4c-e49b-4e3a-b697-ac452c3447f5",
   "metadata": {},
   "source": [
    "In order to perform the substitution, the {func}`~heyoka.subs()` function needs to traverse the expression tree of ``a``. When it encounters for the first time the ``ex`` subexpression, it will:\n",
    "\n",
    "1. perform the substitution, producing as a result $x^2-1+y$,\n",
    "2. record in an internal bookkeeping structure that performing the substitution on the subexpression ``ex`` produced the result $x^2-1+y$.\n",
    "\n",
    "Crucially, the **second** time ``ex`` is encountered during the traversal of the expression tree, the {func}`~heyoka.subs()` function will query the bookkeeping structure and detect that the result of the substitution on ``ex`` has already been computed, and it will fetch the cached result of the substitution instead of (wastefully) perform again the same computation. Thus, not only we avoided a redundant calculation, but also the two $x^2-1+y$ subexpressions appearing in the final result are pointing to the same underlying object (rather than being two separate copies of identical subexpressions).\n",
    "\n",
    "On the other hand, when we apply the same substitution on ``b`` we get:"
   ]
  },
  {
   "cell_type": "code",
   "execution_count": 13,
   "id": "b9b07737-c121-4a15-8efd-1fe54962cae1",
   "metadata": {},
   "outputs": [
    {
     "data": {
      "text/plain": [
       "(cos(((x**2.0000000000000000 - 1.0000000000000000) + y)) + sin(((x**2.0000000000000000 - 1.0000000000000000) + y)))"
      ]
     },
     "execution_count": 13,
     "metadata": {},
     "output_type": "execute_result"
    }
   ],
   "source": [
    "hy.subs(b, {x: x**2 - 1.})"
   ]
  },
  {
   "cell_type": "markdown",
   "id": "e4a1cf90-0b28-41f2-8cce-a4fd0935d44d",
   "metadata": {},
   "source": [
    "That is, the result is mathematically identical (obviously), but, because there is no internal subexpression sharing, the substitution $x \\rightarrow x^2 - 1$ had to be performed twice (rather than once) and the two $x^2-1+y$ subexpressions appearing in the final result are two separate copies of identical subexpressions.\n",
    "\n",
    "As a final piece of information, it is important to emphasise how subexpression sharing is not limited to single expressions, but it also happens across the components of a vector-valued expression. For instance, consider the following vector expression consisting of the two components $\\left[ \\sin\\left( x + y \\right) + \\cos\\left( x + y \\right), 1 + \\mathrm{e}^{x+y}\\right]$:"
   ]
  },
  {
   "cell_type": "code",
   "execution_count": 16,
   "id": "4fea40cc-c69c-455d-a9e7-2bb66b335d28",
   "metadata": {},
   "outputs": [
    {
     "data": {
      "text/plain": [
       "[(cos((x + y)) + sin((x + y))), (1.0000000000000000 + exp((x + y)))]"
      ]
     },
     "execution_count": 16,
     "metadata": {},
     "output_type": "execute_result"
    }
   ],
   "source": [
    "vec_ex = [hy.sin(ex) + hy.cos(ex), 1. + hy.exp(ex)]\n",
    "vec_ex"
   ]
  },
  {
   "cell_type": "markdown",
   "id": "bab0e47f-f124-4769-b7c8-08e63096e681",
   "metadata": {},
   "source": [
    "Here the subexpression ``ex`` is shared among the two components of ``vec_ex``, which both contain references to ``ex`` (rather than storing their own copies of ``ex``). When we invoke the {func}`~heyoka.subs()` function on ``vec_ex``, "
   ]
  },
  {
   "cell_type": "markdown",
   "id": "ba873eb5-e1a4-4a70-890a-b6306c80a863",
   "metadata": {},
   "source": [
    "## Consequences for large computational graphs\n",
    "\n",
    "These details are, most of the time, of little consequence and they may just result in small, hardly-detectable inefficiencies. In fact, a superficial analysis \n",
    "\n",
    "While the use of reference semantics in these simple examples might seem rather inconsequential, it is of absolutely massive importance when it comes to heyoka.py's ability to represent large computational graphs "
   ]
  }
 ],
 "metadata": {
  "kernelspec": {
   "display_name": "Python 3 (ipykernel)",
   "language": "python",
   "name": "python3"
  },
  "language_info": {
   "codemirror_mode": {
    "name": "ipython",
    "version": 3
   },
   "file_extension": ".py",
   "mimetype": "text/x-python",
   "name": "python",
   "nbconvert_exporter": "python",
   "pygments_lexer": "ipython3",
   "version": "3.10.13"
  }
 },
 "nbformat": 4,
 "nbformat_minor": 5
}
