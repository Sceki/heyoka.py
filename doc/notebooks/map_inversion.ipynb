{
 "cells": [
  {
   "cell_type": "code",
   "execution_count": 1,
   "metadata": {},
   "outputs": [],
   "source": [
    "#\n",
    "import heyoka as hy\n",
    "import numpy as np\n",
    "import matplotlib as plt\n",
    "import math\n",
    "from copy import deepcopy\n",
    "\n",
    "#\n",
    "import matplotlib.pyplot as plt\n",
    "from mpl_toolkits.mplot3d import Axes3D"
   ]
  },
  {
   "cell_type": "markdown",
   "metadata": {},
   "source": [
    "We show how to use heyoka to study the system sentitivities when terminal events are enforced. That is, how does the final state vary when we perturb the initial conditions and parameters and the integration time is decided by a terminal event?"
   ]
  },
  {
   "cell_type": "markdown",
   "metadata": {},
   "source": [
    "Let us consider a generic set of ODEs:\n",
    "\n",
    "$$\n",
    "\\left\\{\n",
    "\\begin{array}{l}\n",
    "\\mathbf {\\dot x} = \\mathbf f(\\mathbf x) \\\\\n",
    "\\mathbf {x(0)} = \\mathbf x_0\n",
    "\\end{array}\n",
    "\\right.\n",
    "$$\n",
    "and express its solution as $\\mathbf x(t, \\mathbf x_0)$.\n",
    "Let us now perform a numerical integration and stop at the time $T$ when some event condition $\\mathbf e(\\mathbf x(T, \\mathbf x_0)) = \\mathbf 0$ is satisfied. \n",
    "If we repeat the numerical integration from slightly perturbed initial conditions, the time at which the event is triggered also will also be perturbed so that:\n",
    "$$\n",
    "\\mathbf e\\big(\\mathbf x(T + \\delta T, \\mathbf x_0 + \\delta \\mathbf x_0)\\big) = \\mathbf 0\n",
    "$$\n",
    "\n",
    "We will now see how to use *heyoka* to obtain polinomial expansions $\\mathcal P$ of arbitrary order of the final state and the event trigger time. That is, we seek to find:\n",
    "\n",
    "$$\n",
    "\\left\\{\n",
    "\\begin{array}{l}\n",
    "\\mathbf x_f = \\mathcal P_{x_f}^n(\\delta \\mathbf x_0, \\delta T)\\\\\n",
    "\\delta T = \\mathcal P_T^n(\\delta \\mathbf x_0)\n",
    "\\end{array}\n",
    "\\right.\n",
    "$$\n",
    "\n",
    "This all seems a bit complicated at this point, so it may help to imagine it before we start: we are building high degree polinomials representing how the results of a numerical integration stopped by some event change with the initial conditions. Take, as an example, a particle a gravity field and free falling up to when it collides with a spherical surface placed beneath it. **We want to describe the point where the particle collides with the sphere as a function of its initial state.**\n",
    "\n",
    "Let us start to define our dynamical system $\\mathbf f$:\n"
   ]
  },
  {
   "cell_type": "code",
   "execution_count": 2,
   "metadata": {},
   "outputs": [],
   "source": [
    "# Create the symbolic variables for the state.\n",
    "x, y, vx, vy = hy.make_vars(\"x\", \"y\", \"vx\", \"vy\")\n",
    "\n",
    "r = hy.sqrt(x**2 + y**2)\n",
    "dyn = [vx, vy, -1.0 / r**3 * x, -1.0 / r**3 * y]\n",
    "sys = []\n",
    "sys.append((x, dyn[0]))\n",
    "sys.append((y, dyn[1]))\n",
    "sys.append((vx, dyn[2]))\n",
    "sys.append((vy, dyn[3]))"
   ]
  },
  {
   "cell_type": "markdown",
   "metadata": {},
   "source": [
    "and the event $\\mathbf e$:"
   ]
  },
  {
   "cell_type": "code",
   "execution_count": 3,
   "metadata": {},
   "outputs": [],
   "source": [
    "# Let us create the event\n",
    "# Callback for the terminal event.\n",
    "def t_cb(ta, d_sgn):\n",
    "    # Do stop the integration.\n",
    "    return False\n",
    "\n",
    "# Define a terminal event that turns air drag on/off\n",
    "# whenever the velocity goes to zero.\n",
    "ev_expr = x**2 + y**2 -1\n",
    "t_ev = hy.t_event(\n",
    "        # The event equation.\n",
    "        ev_expr,\n",
    "        # The callback.\n",
    "        callback = t_cb)"
   ]
  },
  {
   "cell_type": "code",
   "execution_count": 4,
   "metadata": {},
   "outputs": [],
   "source": [
    "# Construct the Taylor integrator containing also variational equations\n",
    "ta = hy.taylor_adaptive(sys, [.1]*4, compact_mode=True, t_events = [t_ev])"
   ]
  },
  {
   "cell_type": "code",
   "execution_count": 5,
   "metadata": {},
   "outputs": [
    {
     "name": "stdout",
     "output_type": "stream",
     "text": [
      "The event triggers at:  3.207317144145824\n"
     ]
    }
   ],
   "source": [
    "# Lets propagate \n",
    "ic = [0, 2., 0.4, 0.] \n",
    "tof = 6.\n",
    "\n",
    "ta.state[:4] = ic \n",
    "\n",
    "ta.time = 0.\n",
    "ta.reset_cooldowns() # to be sure in case we evaluatre the cell twice in a row\n",
    "\n",
    "t_grid_ta = np.linspace(0., tof)\n",
    "\n",
    "out_ta = ta.propagate_grid(t_grid_ta)\n",
    "\n",
    "trigger_time = ta.time\n",
    "print(\"The event triggers at: \", trigger_time)\n"
   ]
  },
  {
   "cell_type": "markdown",
   "metadata": {},
   "source": [
    "The numerical propagation has terminated but, while the state of the *ta* object is the one at the event time trigger, the actual values contained in the array returned by *propagate_grid* miss this last point as its not on the requested grid. We thus create new variables and append there the necessary values."
   ]
  },
  {
   "cell_type": "code",
   "execution_count": 6,
   "metadata": {},
   "outputs": [],
   "source": [
    "out = np.vstack((out_ta[-1], ta.state.reshape(1,-1)))\n",
    "t_grid = t_grid_ta[t_grid_ta<ta.time]\n",
    "t_grid = np.hstack((t_grid, [ta.time]))"
   ]
  },
  {
   "cell_type": "markdown",
   "metadata": {},
   "source": [
    "Lets have a look to what happened:"
   ]
  },
  {
   "cell_type": "code",
   "execution_count": 7,
   "metadata": {},
   "outputs": [
    {
     "data": {
      "image/png": "[encoded data removed]",
      "text/plain": [
       "<Figure size 640x480 with 1 Axes>"
      ]
     },
     "metadata": {},
     "output_type": "display_data"
    }
   ],
   "source": [
    "fig = plt.figure()\n",
    "ax = fig.add_subplot(111)\n",
    "ax.plot(out[:,0], out[:,1])\n",
    "\n",
    "circle = plt.Circle((0, 0), 1, color='r')\n",
    "ax.add_patch(circle)\n",
    "plt.axis('equal');"
   ]
  },
  {
   "cell_type": "markdown",
   "metadata": {},
   "source": [
    "Naturally, our object followed some kind of Keplerian orbit and stopped when it hit the sphere. So far so good. In order now to understand where the object would hit the sphere if we change the initial conditions, we need to transform our set of ODEs applying a few tricks. We started from:\n",
    "\n",
    "$$\n",
    "\\left\\{\n",
    "\\begin{array}{l}\n",
    "\\mathbf {\\dot x} = v_x \\\\\n",
    "\\mathbf {\\dot y} = v_y \\\\\n",
    "\\mathbf {\\dot v_x} = - x/r^3 \\\\\n",
    "\\mathbf {\\dot v_y} = - y/r^3 \\\\\n",
    "\\end{array}\n",
    "\\right.\n",
    "$$\n",
    "\n",
    "and the event $e = x^2 + y^2 -1 = 0$.\n",
    "\n",
    "and we integrated up to the event rigger time $T$. Let us now instead consider the ODE system:\n",
    "$$\n",
    "\\left\\{\n",
    "\\begin{array}{l}\n",
    "\\mathbf {\\dot x} = T v_x \\\\\n",
    "\\mathbf {\\dot y} = T v_y \\\\\n",
    "\\mathbf {\\dot v_x} = - T x/r^3 \\\\\n",
    "\\mathbf {\\dot v_y} = - T y/r^3 \\\\\n",
    "\\mathbf {\\dot e} = T \\nabla e \\cdot \\mathbf f\n",
    "\\end{array}\n",
    "\\right.\n",
    "$$\n",
    "with the added initial condition $e(0)$. We will integrate this system up to 1, as we now moved the integration time as an ODE parameter. We also added one equation which will track the event value along the dynamics.\n",
    "\n",
    "On this system of equations we now build a variational integrator so that all high orders variations will also be computed:\n"
   ]
  },
  {
   "cell_type": "code",
   "execution_count": 8,
   "metadata": {},
   "outputs": [],
   "source": [
    "e = hy.make_vars(\"e\")\n",
    "ev_cfunc = hy.cfunc([ev_expr], vars=[x, y, vx, vy])\n",
    "\n",
    "ev_grad = hy.diff_tensors([ev_expr], diff_args=[x, y, vx, vy], diff_order=1).gradient\n",
    "\n",
    "sys_aug = []\n",
    "sys_aug.append((x, hy.par[0] * dyn[0]))\n",
    "sys_aug.append((y, hy.par[0] * dyn[1]))\n",
    "sys_aug.append((vx, hy.par[0] * dyn[2]))\n",
    "sys_aug.append((vy, hy.par[0] * dyn[3]))\n",
    "sys_aug.append((e, hy.par[0] * np.dot(ev_grad, dyn)))"
   ]
  },
  {
   "cell_type": "markdown",
   "metadata": {},
   "source": [
    "we compute the variational system:"
   ]
  },
  {
   "cell_type": "code",
   "execution_count": 9,
   "metadata": {},
   "outputs": [],
   "source": [
    "# Create the variational ODE system (symbolic).\n",
    "vsys = hy.var_ode_sys(sys_aug, [x, y, vx, vy, e, hy.par[0]], order=5)"
   ]
  },
  {
   "cell_type": "markdown",
   "metadata": {},
   "source": [
    "and build a variational integrator including the integration time as parameter."
   ]
  },
  {
   "cell_type": "code",
   "execution_count": 10,
   "metadata": {},
   "outputs": [],
   "source": [
    "# Construct the Taylor integrator containing also variational equations (llvm)\n",
    "ta_var = hy.taylor_adaptive(vsys, [.1]*5, compact_mode=True, t_events = [t_ev])\n",
    "# We store the initial conditions on the variational equations for future resets\n",
    "ic_var = ta_var.state[5:]"
   ]
  },
  {
   "cell_type": "markdown",
   "metadata": {},
   "source": [
    "We thus may now integrate this system up to a unitary time ($T$ will take care of scaling it to the real time units)"
   ]
  },
  {
   "cell_type": "code",
   "execution_count": 11,
   "metadata": {},
   "outputs": [],
   "source": [
    "# Lets propagate \n",
    "ic_aug = ic + [ev_cfunc(ic)[0]] \n",
    "\n",
    "ta_var.state[:5] = ic_aug \n",
    "ta_var.state[5:] = ic_var\n",
    "ta_var.pars[:] = trigger_time\n",
    "\n",
    "ta_var.time = 0.\n",
    "ta_var.reset_cooldowns()\n",
    "\n",
    "t_grid_ta_var = np.linspace(0., 1.)\n",
    "\n",
    "out_ta = ta_var.propagate_grid(t_grid_ta_var)"
   ]
  },
  {
   "cell_type": "markdown",
   "metadata": {},
   "source": [
    "Just to verify, lets look at the value of $e$ at the end of our integration and check that is zero indeed:"
   ]
  },
  {
   "cell_type": "code",
   "execution_count": 12,
   "metadata": {},
   "outputs": [
    {
     "name": "stdout",
     "output_type": "stream",
     "text": [
      "The event state variable e value at the end is:  1.618580474398356e-15\n"
     ]
    }
   ],
   "source": [
    "print(\"The event state variable e value at the end is: \", ta_var.state[4])"
   ]
  },
  {
   "cell_type": "markdown",
   "metadata": {},
   "source": [
    "Here is perhaps a good place to stop for a second and try to understand what we have computed. Looking into how we defined and built the variational equations, it should be easy to see that calls to the method *evaluate_taylormap* will return the following quantities:\n",
    "\n",
    "\n",
    "$$\n",
    "\\left\\{\n",
    "\\begin{array}{l}\n",
    "\\delta x_f = \\mathcal P_{x_f}^n(\\delta x_f, \\delta y_f, \\delta v_{x_f}, \\delta v_{y_f}, \\delta T)\\\\\n",
    "\\delta y_f = \\mathcal P_{y_f}^n(\\delta x_f, \\delta y_f, \\delta v_{x_f}, \\delta v_{y_f}, \\delta T)\\\\\n",
    "\\delta v_{x_f} = \\mathcal P_{v_{x_f}}^n(\\delta x_f, \\delta y_f, \\delta v_{x_f}, \\delta v_{y_f}, \\delta T)\\\\\n",
    "\\delta v_{y_f} = \\mathcal P_{v_{y_f}}^n(\\delta x_f, \\delta y_f, \\delta v_{x_f}, \\delta v_{y_f}, \\delta T)\\\\\n",
    "\\delta e_f = \\mathcal P_T^n(\\delta x_f, \\delta y_f, \\delta v_{x_f}, \\delta v_{y_f}, \\delta T)\n",
    "\\end{array}\n",
    "\\right.\n",
    "$$\n",
    "\n",
    "where $\\mathcal P^n$ are multivariate polynomials of order $n$. Comparing this to what we wanted to compute we can see that we are getting very close, except the last equation, where we would rather have something like $\\delta T = \\mathcal P_T^n(\\delta x_f, \\delta y_f, \\delta v_{x_f}, \\delta v_{y_f}, \\delta e_f)$ to then set $\\delta e_f=0$. We need to invert this last equation!"
   ]
  },
  {
   "cell_type": "markdown",
   "metadata": {},
   "source": [
    "# A prototype in heyoka"
   ]
  },
  {
   "cell_type": "code",
   "execution_count": 13,
   "metadata": {},
   "outputs": [],
   "source": [
    "def _compute_direct_map(state, vargs, ta_var, identity=[]):\n",
    "    M = [0] * len(state)\n",
    "    N = [hy.expression(0)] * len(state)\n",
    "    matrix = np.zeros((len(state), len(state)))\n",
    "\n",
    "    # 1 - We create the symbols for the polynomial system of equations: dx = P(dy)\n",
    "    state_s = []\n",
    "    vargs_s = []\n",
    "    for i in range(len(state)):\n",
    "        state_s.append(\"dx\" + str(i))\n",
    "    for i in range(len(vargs)):\n",
    "        vargs_s.append(\"dy\" + str(i))\n",
    "    state_e = hy.make_vars(*state_s)\n",
    "    vargs_e = hy.make_vars(*vargs_s)\n",
    "    # In case state or vargs are only of len 1, the return value in heyoka changes type and is not a list.\n",
    "    # We account for this case here\n",
    "    if not isinstance(state_e, list):\n",
    "        state_e = [state_e]\n",
    "    if not isinstance(vargs_e, list):\n",
    "        vargs_e = [vargs_e]\n",
    "\n",
    "    # 2 - We build the indexes of the vargs to ignore\n",
    "    allidxs = set(range(len(ta_var.vargs)))\n",
    "    ignore = allidxs - set(vargs)\n",
    "\n",
    "    # 3 - We loop over all mini indexes\n",
    "    for i in range(ta_var.n_orig_sv, len(ta_var.sys)):\n",
    "        mindex = ta_var.get_mindex(i)\n",
    "        # If the state is in the identity list we build the map dx = dy and continue\n",
    "        if mindex[0] in identity:  \n",
    "            # This is now done multiple times, but could be done only the first.\n",
    "            M[state.index(mindex[0])] = vargs_e[mindex[0]]\n",
    "            matrix[state.index(mindex[0]), state.index(mindex[0])] = 1.0\n",
    "            continue\n",
    "        \n",
    "        # If not, we only consider the term if it corresponds to a selected state\n",
    "        if not mindex[0] in state:\n",
    "            continue\n",
    "        # .. and contains only the selected vargs\n",
    "        flag = 0.0\n",
    "        for ii, jj in enumerate(mindex[1:]):\n",
    "            if  (not (ii in vargs)) and (jj > 0.0):\n",
    "                flag=1.0\n",
    "                break\n",
    "\n",
    "        if flag == 0:\n",
    "            # At this point we know we need to add this term to the corresponding map.\n",
    "            monomial = 1.0\n",
    "            for k in range(len(vargs)):\n",
    "                monomial *= vargs_e[k] ** mindex[vargs[k] + 1]\n",
    "            value = ta_var.state[i]\n",
    "            factorial = math.prod([math.factorial(_) for _ in mindex[1:]])\n",
    "\n",
    "            value /= factorial\n",
    "            if sum(mindex[1:]) == 1:\n",
    "                M[state.index(mindex[0])] += value * monomial\n",
    "                matrix[state.index(mindex[0]), vargs.index(mindex[1:].index(1))] = value\n",
    "            else:\n",
    "                N[state.index(mindex[0])] += value * monomial\n",
    "    return state_e, vargs_e, M, N, matrix\n",
    "\n",
    "\n",
    "def _map_composition_hy(A, B, symbols):\n",
    "    tmp = deepcopy(A)\n",
    "    for j in range(len(symbols)):\n",
    "        tmp = hy.subs(tmp, {symbols[j]: B[j]})\n",
    "    return tmp\n",
    "\n",
    "\n",
    "def _map_difference(A, B):\n",
    "    C = []\n",
    "    for i in range(len(A)):\n",
    "        C.append(A[i] - B[i])\n",
    "    return C\n",
    "\n",
    "\n",
    "def _map_sum(A, B):\n",
    "    C = []\n",
    "    for i in range(len(A)):\n",
    "        C.append(A[i] + B[i])\n",
    "    return C\n",
    "\n",
    "\n",
    "# This inverts the linear equations from ta_var dx = P(dy) where the components in\n",
    "# dx are the selctes state, and the ones in dy the vargs. \n",
    "# Anything in identity will be not from ta_var, but just the identity map.\n",
    "def invert_taylor_map(state, vargs, ta_var, identity=[]):\n",
    "    if len(state) != len(vargs):\n",
    "        raise ValueError(\"Dimension for state must equal the dimension for vargs\")\n",
    "    n = ta_var.vorder\n",
    "    # 1 - we create the direct map and it linear nonlinear part\n",
    "    dx_e, dy_e, M, N, matrix = _compute_direct_map(state, vargs, ta_var, identity)\n",
    "    Identity = dx_e\n",
    "    # 2 - We assemple the linear part with 2 different symbols as to avoid nasty surprises in subs\n",
    "    det = np.linalg.det(matrix)\n",
    "    if abs(det) < 1e-10:\n",
    "        raise ValueError(\"Linear Map is not invertible\")\n",
    "    Minv0 = list(np.linalg.inv(matrix) @ dx_e)  # dx symbols\n",
    "    Minv02 = _map_composition_hy(Minv0, dy_e, dx_e)  # dy symbols\n",
    "    # 3 - We iterate n times\n",
    "    for i in range(n - 1):\n",
    "        Minv0 = _map_composition_hy(\n",
    "            Minv02, _map_difference(Identity, _map_composition_hy(N, Minv0, dy_e)), dy_e\n",
    "        )\n",
    "    cfunc = hy.cfunc(Minv0, vars=dx_e)\n",
    "    return cfunc"
   ]
  },
  {
   "cell_type": "markdown",
   "metadata": {},
   "source": [
    "It is always good to confirm what are the variational variables we have considered:"
   ]
  },
  {
   "cell_type": "code",
   "execution_count": 14,
   "metadata": {},
   "outputs": [
    {
     "name": "stdout",
     "output_type": "stream",
     "text": [
      "The variational variables are, in order:  [x, y, vx, vy, e, p0]\n"
     ]
    }
   ],
   "source": [
    "print(\"The variational variables are, in order: \", ta_var.vargs)"
   ]
  },
  {
   "cell_type": "code",
   "execution_count": 15,
   "metadata": {},
   "outputs": [],
   "source": [
    "state = [0,1,2,3,4] # selects the maps for dx_f, dy_f, dvx_f, dvy_f, de_f\n",
    "vargs = [0,1,2,3,5] # selects to have the variations w.r.t. dx_0, dy_0, dvx_0, dvy_0, dT\n",
    "\n",
    "identity = [0,1,2,3] # overrides the dx_f, dy_f, dvx_f, dvy_f with dx_0, dy_0, dvx_0, dvy_0\n",
    "\n",
    "# Inverts the map. \n",
    "invmap = invert_taylor_map(state, vargs, ta_var, identity=identity)\n",
    "_, _, _, _, matrix = _compute_direct_map(state,vargs,ta_var,identity)"
   ]
  },
  {
   "cell_type": "code",
   "execution_count": 16,
   "metadata": {},
   "outputs": [
    {
     "data": {
      "text/plain": [
       "[x, y, vx, vy, e, p0]"
      ]
     },
     "execution_count": 16,
     "metadata": {},
     "output_type": "execute_result"
    }
   ],
   "source": [
    "ta_var.vargs"
   ]
  },
  {
   "cell_type": "code",
   "execution_count": 17,
   "metadata": {},
   "outputs": [
    {
     "data": {
      "text/plain": [
       "array([ 1.69673001,  1.11884781,  6.49603885,  8.48365006,  1.        ,\n",
       "       -1.44222051])"
      ]
     },
     "execution_count": 17,
     "metadata": {},
     "output_type": "execute_result"
    }
   ],
   "source": [
    "ta_var.state[29:35]"
   ]
  },
  {
   "cell_type": "code",
   "execution_count": 18,
   "metadata": {},
   "outputs": [
    {
     "data": {
      "text/plain": [
       "[4, 1, 0, 0, 0, 0, 0]"
      ]
     },
     "execution_count": 18,
     "metadata": {},
     "output_type": "execute_result"
    }
   ],
   "source": [
    "ta_var.get_mindex(29)"
   ]
  },
  {
   "cell_type": "code",
   "execution_count": 19,
   "metadata": {},
   "outputs": [
    {
     "data": {
      "text/plain": [
       "array([[ 1.        ,  0.        ,  0.        ,  0.        ,  0.        ],\n",
       "       [ 0.        ,  1.        ,  0.        ,  0.        ,  0.        ],\n",
       "       [ 0.        ,  0.        ,  1.        ,  0.        ,  0.        ],\n",
       "       [ 0.        ,  0.        ,  0.        ,  1.        ,  0.        ],\n",
       "       [ 1.69673001,  1.11884781,  6.49603885,  8.48365006, -1.44222051]])"
      ]
     },
     "execution_count": 19,
     "metadata": {},
     "output_type": "execute_result"
    }
   ],
   "source": [
    "matrix"
   ]
  },
  {
   "cell_type": "code",
   "execution_count": 22,
   "metadata": {},
   "outputs": [
    {
     "name": "stdout",
     "output_type": "stream",
     "text": [
      "Event trigger time difference from the Taylor approximation: 0.0007658677154722984\n",
      "Event trigger time difference from the Linear approximation: 0.0007656725682678042\n"
     ]
    }
   ],
   "source": [
    "size = 1e-4\n",
    "d_ic = [np.random.random()*size, np.random.random()*0.0, np.random.random()*size, np.random.random()*size]\n",
    "# We now use the random perturbation vector generated above (dx_0, dy_0, dvx_0, dvy_0) add de_f=0 and query the map for\n",
    "# the change in event trigger time:\n",
    "dT = invmap(d_ic+[0.])\n",
    "print(\"Event trigger time difference from the Taylor approximation:\", dT[-1])\n",
    "print(\"Event trigger time difference from the Linear approximation:\", (np.linalg.inv(matrix)@(d_ic+[0.]))[-1])\n"
   ]
  },
  {
   "cell_type": "code",
   "execution_count": 23,
   "metadata": {},
   "outputs": [
    {
     "name": "stdout",
     "output_type": "stream",
     "text": [
      "Old event trigger time: 3.207317144145824\n",
      "New event trigger time: 3.2080830119452326\n",
      "\n",
      "Event trigger time difference:\t\t\t\t\t7.65868e-04\n",
      "Event trigger time difference from the Taylor approximation:\t7.65868e-04\t\n",
      "\n",
      "Relative error (on dT, not T):  -1.0959643843350826e-07\n"
     ]
    }
   ],
   "source": [
    "# Lets propagate using the original system (non augmented, non variational)\n",
    "ic_new = np.array(ic) + np.array(d_ic)\n",
    "tof = 6.\n",
    "\n",
    "ta.state[:4] = ic_new \n",
    "\n",
    "ta.time = 0.\n",
    "ta.reset_cooldowns()\n",
    "\n",
    "t_grid_ta = np.linspace(0., tof)\n",
    "\n",
    "out_ta_new = ta.propagate_grid(t_grid_ta)\n",
    "\n",
    "trigger_time_new = ta.time\n",
    "\n",
    "print(\"Old event trigger time:\", trigger_time)\n",
    "print(\"New event trigger time:\", trigger_time_new)\n",
    "print(f\"\\nEvent trigger time difference:\\t\\t\\t\\t\\t{trigger_time_new - trigger_time:.5e}\")\n",
    "print(f\"Event trigger time difference from the Taylor approximation:\\t{dT[-1]:.5e}\\t\")\n",
    "print(\"\\nRelative error (on dT, not T): \", (dT[-1] - (trigger_time_new -trigger_time )) / (trigger_time_new -trigger_time ))\n"
   ]
  }
 ],
 "metadata": {
  "kernelspec": {
   "display_name": "heyokapy_devel",
   "language": "python",
   "name": "python3"
  },
  "language_info": {
   "codemirror_mode": {
    "name": "ipython",
    "version": 3
   },
   "file_extension": ".py",
   "mimetype": "text/x-python",
   "name": "python",
   "nbconvert_exporter": "python",
   "pygments_lexer": "ipython3",
   "version": "3.9.19"
  }
 },
 "nbformat": 4,
 "nbformat_minor": 2
}
